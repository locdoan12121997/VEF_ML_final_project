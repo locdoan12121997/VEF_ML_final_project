{
 "cells": [
  {
   "cell_type": "markdown",
   "metadata": {},
   "source": []
  },
  {
   "cell_type": "code",
   "execution_count": null,
   "metadata": {},
   "outputs": [],
   "source": [
    "import math\n",
    "import numpy as np\n",
    "import pandas as pd\n",
    "import os\n",
    "# Suppress warnings \n",
    "import warnings\n",
    "warnings.filterwarnings('ignore')\n",
    "# SQLite Table\n",
    "import sqlite3\n",
    "import copy\n",
    "# matplotlib and seaborn for plotting\n",
    "import matplotlib.pyplot as plt\n",
    "import seaborn as sns"
   ]
  },
  {
   "cell_type": "markdown",
   "metadata": {},
   "source": [
    "# Raw Data"
   ]
  },
  {
   "cell_type": "markdown",
   "metadata": {},
   "source": [
    "### Days In Hospital"
   ]
  },
  {
   "cell_type": "code",
   "execution_count": null,
   "metadata": {},
   "outputs": [],
   "source": [
    "DIH2 = pd.read_csv('Data/DaysInHospital_Y2.csv')\n",
    "print('Days in Hospital year 2 data shape: ', DIH2.shape)\n",
    "DIH2.head()"
   ]
  },
  {
   "cell_type": "code",
   "execution_count": null,
   "metadata": {},
   "outputs": [],
   "source": [
    "DIH2['DaysInHospital'].value_counts().plot(kind='bar')"
   ]
  },
  {
   "cell_type": "code",
   "execution_count": null,
   "metadata": {},
   "outputs": [],
   "source": [
    "DIH3 = pd.read_csv('Data/DaysInHospital_Y3.csv')\n",
    "print('Days in Hospital year 2 data shape: ', DIH3.shape)\n",
    "DIH3.head()"
   ]
  },
  {
   "cell_type": "code",
   "execution_count": null,
   "metadata": {},
   "outputs": [],
   "source": [
    "DIH2['DaysInHospital'].value_counts().plot(kind='bar')"
   ]
  },
  {
   "cell_type": "code",
   "execution_count": null,
   "metadata": {},
   "outputs": [],
   "source": [
    "print('Check null in DayInHospital Y2') \n",
    "display(DIH2.isnull().sum())\n",
    "print('Check null in DayInHospital Y3') \n",
    "display(DIH3.isnull().sum())"
   ]
  },
  {
   "cell_type": "markdown",
   "metadata": {},
   "source": [
    "### Members"
   ]
  },
  {
   "cell_type": "code",
   "execution_count": null,
   "metadata": {},
   "outputs": [],
   "source": [
    "Members = pd.read_csv('Data/HHP_release3/Members.csv')\n",
    "print('Members data shape: ', Members.shape)\n",
    "Members.head()"
   ]
  },
  {
   "cell_type": "code",
   "execution_count": null,
   "metadata": {},
   "outputs": [],
   "source": [
    "Members['AgeAtFirstClaim'].value_counts().plot(kind='bar')"
   ]
  },
  {
   "cell_type": "code",
   "execution_count": null,
   "metadata": {},
   "outputs": [],
   "source": [
    "Members['Sex'].value_counts().plot(kind='bar')"
   ]
  },
  {
   "cell_type": "code",
   "execution_count": null,
   "metadata": {},
   "outputs": [],
   "source": [
    "print('Check null in Members Data') \n",
    "display(Members.isnull().sum())"
   ]
  },
  {
   "cell_type": "markdown",
   "metadata": {},
   "source": [
    "### Drug count data"
   ]
  },
  {
   "cell_type": "code",
   "execution_count": null,
   "metadata": {},
   "outputs": [],
   "source": [
    "DrugCount = pd.read_csv('Data/HHP_release3/DrugCount.csv')\n",
    "print('DrugCount data shape: ', DrugCount.shape)\n",
    "DrugCount.head()"
   ]
  },
  {
   "cell_type": "code",
   "execution_count": null,
   "metadata": {},
   "outputs": [],
   "source": [
    "DrugCount.drop(DrugCount[DrugCount[\"Year\"] == \"Y3\"].index)\n",
    "DrugCount.head()"
   ]
  },
  {
   "cell_type": "code",
   "execution_count": null,
   "metadata": {},
   "outputs": [],
   "source": [
    "#Null check\n",
    "display(DrugCount.isnull().sum())"
   ]
  },
  {
   "cell_type": "code",
   "execution_count": null,
   "metadata": {},
   "outputs": [],
   "source": [
    "DrugCount['DrugCount'].value_counts().plot(kind='bar')"
   ]
  },
  {
   "cell_type": "code",
   "execution_count": null,
   "metadata": {},
   "outputs": [],
   "source": [
    "DrugCount[DrugCount[\"Year\"] == \"Y1\"]['DrugCount'].value_counts().plot(kind='bar',title='DrugCountin Year 1')"
   ]
  },
  {
   "cell_type": "code",
   "execution_count": null,
   "metadata": {},
   "outputs": [],
   "source": [
    "DrugCount[DrugCount[\"Year\"] == \"Y2\"]['DrugCount'].value_counts().plot(kind='bar',title='DrugCount in Year 2')"
   ]
  },
  {
   "cell_type": "markdown",
   "metadata": {},
   "source": [
    "### LabCount"
   ]
  },
  {
   "cell_type": "code",
   "execution_count": null,
   "metadata": {},
   "outputs": [],
   "source": [
    "LabCount = pd.read_csv('Data/HHP_release3/LabCount.csv')\n",
    "print('LabCount data shape: ', LabCount.shape)\n",
    "LabCount.head()"
   ]
  },
  {
   "cell_type": "code",
   "execution_count": null,
   "metadata": {},
   "outputs": [],
   "source": [
    "LabCount.drop(LabCount[LabCount[\"Year\"] == \"Y3\"].index)\n",
    "#Null check\n",
    "display(LabCount.isnull().sum())"
   ]
  },
  {
   "cell_type": "code",
   "execution_count": null,
   "metadata": {},
   "outputs": [],
   "source": [
    "#DSFS\n",
    "LabCount['DSFS'].value_counts().plot(kind='bar')"
   ]
  },
  {
   "cell_type": "code",
   "execution_count": null,
   "metadata": {},
   "outputs": [],
   "source": [
    "LabCount[LabCount[\"Year\"] == \"Y1\"]['LabCount'].value_counts().plot(kind='bar',title='LabCount in Year 1')"
   ]
  },
  {
   "cell_type": "code",
   "execution_count": null,
   "metadata": {},
   "outputs": [],
   "source": [
    "LabCount[LabCount[\"Year\"] == \"Y2\"]['DSFS'].value_counts().plot(kind='bar',title='DFSF in Year 2')"
   ]
  },
  {
   "cell_type": "code",
   "execution_count": null,
   "metadata": {},
   "outputs": [],
   "source": [
    "#LabCount: count the unique laboratory and patholoty tests by DSFS\n",
    "#Value above 9 - 95% quantile are top coded as 10+\n",
    "LabCount['LabCount'].value_counts().plot(kind='bar')"
   ]
  },
  {
   "cell_type": "code",
   "execution_count": null,
   "metadata": {},
   "outputs": [],
   "source": [
    "LabCount[LabCount[\"Year\"] == \"Y1\"]['LabCount'].value_counts().plot(kind='bar',title='LabCount in Year 1')"
   ]
  },
  {
   "cell_type": "code",
   "execution_count": null,
   "metadata": {},
   "outputs": [],
   "source": [
    "LabCount[LabCount[\"Year\"] == \"Y2\"]['LabCount'].value_counts().plot(kind='bar',title='LabCount in Year 2')"
   ]
  },
  {
   "cell_type": "markdown",
   "metadata": {},
   "source": [
    "### Claims"
   ]
  },
  {
   "cell_type": "code",
   "execution_count": null,
   "metadata": {},
   "outputs": [],
   "source": [
    "Claims = pd.read_csv('Data/HHP_release3/Claims.csv')\n",
    "print('Claims data shape: ', Claims.shape)\n",
    "Claims.head()"
   ]
  },
  {
   "cell_type": "code",
   "execution_count": null,
   "metadata": {},
   "outputs": [],
   "source": [
    "Claims.drop(Claims[Claims[\"Year\"] == \"Y3\"].index)\n",
    "#Null check\n",
    "display(Claims.isnull().sum())"
   ]
  },
  {
   "cell_type": "code",
   "execution_count": null,
   "metadata": {},
   "outputs": [],
   "source": [
    "Feature={'ProviderID',\n",
    "         'Vendor',                     \n",
    "         'PCP',                         \n",
    "         'Year',                          \n",
    "         'Specialty',\n",
    "         'PlaceSvc',\n",
    "         #'PayDelay', use histogram\n",
    "         'LengthOfStay',\n",
    "         'DSFS',\n",
    "         'PrimaryConditionGroup',      \n",
    "         'CharlsonIndex',                 \n",
    "         'ProcedureGroup',              \n",
    "         'SupLOS'          }\n",
    "#Feature=list(Feature)"
   ]
  },
  {
   "cell_type": "code",
   "execution_count": null,
   "metadata": {},
   "outputs": [],
   "source": [
    "def plot_cat_data(df, col, ax):\n",
    "    s_count = df[col].value_counts()\n",
    "    x = s_count.index.tolist()\n",
    "    y = s_count.values\n",
    "    df_bar = pd.DataFrame({col: x, \"count\": y}, columns=[col, \"count\"])\n",
    "    df_bar.plot.bar(x=col, y=\"count\", rot=0, ax=ax)\n",
    "    \n",
    "ncols=3\n",
    "i=0\n",
    "for var in Feature:\n",
    "    i+=1/len(Feature)\n",
    "    j=i % ncols\n",
    "   # Claims[var].value_counts().plot(kind='bar',title='Speciality',ax=axes[i, j])\n",
    "    #plot_cat_data(Claims, var, ax=axes[i, j])"
   ]
  },
  {
   "cell_type": "markdown",
   "metadata": {},
   "source": [
    "### Plot automatically bar chart on each categorical data (total, Y1, Y2)?"
   ]
  },
  {
   "cell_type": "code",
   "execution_count": null,
   "metadata": {},
   "outputs": [],
   "source": [
    "Claims['Specialty'].value_counts().plot(kind='bar',title='Speciality')"
   ]
  },
  {
   "cell_type": "code",
   "execution_count": null,
   "metadata": {},
   "outputs": [],
   "source": [
    "Claims[Claims[\"Year\"] == \"Y1\"][\"Specialty\"].value_counts().plot(kind='bar',title='Speciality in Y1')"
   ]
  },
  {
   "cell_type": "code",
   "execution_count": null,
   "metadata": {},
   "outputs": [],
   "source": [
    "Claims[Claims[\"Year\"] == \"Y2\"][\"Specialty\"].value_counts().plot(kind='bar',title='Specialty in Y2')"
   ]
  },
  {
   "cell_type": "code",
   "execution_count": null,
   "metadata": {},
   "outputs": [],
   "source": [
    "Claims[\"PlaceSvc\"].value_counts().plot(kind='bar',title='PlaceSvc')"
   ]
  },
  {
   "cell_type": "code",
   "execution_count": null,
   "metadata": {},
   "outputs": [],
   "source": [
    "Claims[Claims[\"Year\"] == \"Y1\"][\"PlaceSvc\"].value_counts().plot(kind='bar',title='PlaceSvc in Y1')"
   ]
  },
  {
   "cell_type": "code",
   "execution_count": null,
   "metadata": {},
   "outputs": [],
   "source": [
    "Claims[Claims[\"Year\"] == \"Y2\"][\"PlaceSvc\"].value_counts().plot(kind='bar',title='PlaceSvc in Y2')"
   ]
  },
  {
   "cell_type": "code",
   "execution_count": null,
   "metadata": {},
   "outputs": [],
   "source": [
    "Claims['PayDelay'].value_counts().plot.hist(title='PayDelay')"
   ]
  },
  {
   "cell_type": "code",
   "execution_count": null,
   "metadata": {},
   "outputs": [],
   "source": [
    "Claims[Claims[\"Year\"] == \"Y1\"]['PayDelay'].value_counts().plot(kind='bar',title='PayDelay in Year 1')"
   ]
  },
  {
   "cell_type": "code",
   "execution_count": null,
   "metadata": {},
   "outputs": [],
   "source": [
    "Claims[Claims[\"Year\"] == \"Y2\"]['PayDelay'].value_counts().plot(kind='bar',title='PayDelay in Year 2')"
   ]
  },
  {
   "cell_type": "code",
   "execution_count": null,
   "metadata": {},
   "outputs": [],
   "source": [
    "Claims['LengthOfStay'].value_counts().plot(kind='bar',title='LengthOfStay')"
   ]
  },
  {
   "cell_type": "code",
   "execution_count": null,
   "metadata": {},
   "outputs": [],
   "source": [
    "Claims[Claims[\"Year\"] == \"Y1\"]['LengthOfStay'].value_counts().plot(kind='bar',title='LengthOfStay in Year 1')"
   ]
  },
  {
   "cell_type": "code",
   "execution_count": null,
   "metadata": {},
   "outputs": [],
   "source": [
    "Claims[Claims[\"Year\"] == \"Y2\"]['LengthOfStay'].value_counts().plot(kind='bar',title='LengthOfStay in Year 2')"
   ]
  },
  {
   "cell_type": "code",
   "execution_count": null,
   "metadata": {},
   "outputs": [],
   "source": [
    "Claims['DSFS'].value_counts().plot(kind='bar',title='DSFS')"
   ]
  },
  {
   "cell_type": "code",
   "execution_count": null,
   "metadata": {},
   "outputs": [],
   "source": [
    "Claims[Claims[\"Year\"] == \"Y1\"]['DSFS'].value_counts().plot(kind='bar',title='DSFS in Year 1')"
   ]
  },
  {
   "cell_type": "code",
   "execution_count": null,
   "metadata": {},
   "outputs": [],
   "source": [
    "Claims[Claims[\"Year\"] == \"Y2\"]['DSFS'].value_counts().plot(kind='bar',title='DSFS in Year 2')"
   ]
  },
  {
   "cell_type": "markdown",
   "metadata": {},
   "source": [
    "PrimaryConditionGroup"
   ]
  },
  {
   "cell_type": "code",
   "execution_count": null,
   "metadata": {},
   "outputs": [],
   "source": [
    "Claims['PrimaryConditionGroup'].value_counts().plot(kind='bar',title='PrimaryConditionGroup')"
   ]
  },
  {
   "cell_type": "code",
   "execution_count": null,
   "metadata": {},
   "outputs": [],
   "source": [
    "Claims[Claims[\"Year\"] == \"Y1\"]['PrimaryConditionGroup'].value_counts().plot(kind='bar',title='PrimaryConditionGroup in Year 1')"
   ]
  },
  {
   "cell_type": "code",
   "execution_count": null,
   "metadata": {},
   "outputs": [],
   "source": [
    "Claims[Claims[\"Year\"] == \"Y2\"]['PrimaryConditionGroup'].value_counts().plot(kind='bar',title='PrimaryConditionGroup in Year 2')"
   ]
  },
  {
   "cell_type": "code",
   "execution_count": null,
   "metadata": {},
   "outputs": [],
   "source": [
    "Claims['CharlsonIndex'].value_counts().plot(kind='bar',title='CharlsonIndex')"
   ]
  },
  {
   "cell_type": "code",
   "execution_count": null,
   "metadata": {},
   "outputs": [],
   "source": [
    "Claims[Claims[\"Year\"] == \"Y1\"]['CharlsonIndex'].value_counts().plot(kind='bar',title='CharlsonIndex in Year 1')"
   ]
  },
  {
   "cell_type": "code",
   "execution_count": null,
   "metadata": {},
   "outputs": [],
   "source": [
    "Claims[Claims[\"Year\"] == \"Y2\"]['CharlsonIndex'].value_counts().plot(kind='bar',title='CharlsonIndex in Year 2')"
   ]
  },
  {
   "cell_type": "code",
   "execution_count": null,
   "metadata": {},
   "outputs": [],
   "source": [
    "Claims['ProcedureGroup'].value_counts().plot(kind='bar',title='ProcedureGroup')"
   ]
  },
  {
   "cell_type": "code",
   "execution_count": null,
   "metadata": {},
   "outputs": [],
   "source": [
    "Claims[Claims[\"Year\"] == \"Y1\"]['ProcedureGroup'].value_counts().plot(kind='bar',title='ProcedureGroup in Year 1')"
   ]
  },
  {
   "cell_type": "code",
   "execution_count": null,
   "metadata": {},
   "outputs": [],
   "source": [
    "Claims[Claims[\"Year\"] == \"Y2\"]['ProcedureGroup'].value_counts().plot(kind='bar',title='ProcedureGroup in Year 2')"
   ]
  },
  {
   "cell_type": "code",
   "execution_count": null,
   "metadata": {},
   "outputs": [],
   "source": [
    "Claims['SupLOS'].value_counts().plot(kind='bar',title='SupLOS')"
   ]
  },
  {
   "cell_type": "code",
   "execution_count": null,
   "metadata": {},
   "outputs": [],
   "source": [
    "Claims[Claims[\"Year\"] == \"Y1\"]['SupLOS'].value_counts().plot(kind='bar',title='SupLOS in Year 1')"
   ]
  },
  {
   "cell_type": "code",
   "execution_count": null,
   "metadata": {},
   "outputs": [],
   "source": [
    "Claims[Claims[\"Year\"] == \"Y2\"]['SupLOS'].value_counts().plot(kind='bar',title='SupLOS in Year 2')"
   ]
  },
  {
   "cell_type": "markdown",
   "metadata": {},
   "source": [
    "# Processed data"
   ]
  },
  {
   "cell_type": "code",
   "execution_count": null,
   "metadata": {},
   "outputs": [],
   "source": [
    "train = pd.read_csv('Data/train_data_hhp.csv')\n",
    "test = pd.read_csv('Data/test_data_hhp.csv')\n",
    "\n",
    "ps_dictionary= pd.read_csv('Data/ps_dictionary.csv')\n",
    "ps=list(ps_dictionary['Shorten Name'])\n",
    "pcg_dictionary= pd.read_csv('Data/pcg_dictionary.csv')\n",
    "pcg=list(pcg_dictionary['Shorten Name'])\n",
    "pg_dictionary= pd.read_csv('Data/pg_dictionary.csv')\n",
    "pg=list(pg_dictionary['Shorten Name'])\n",
    "sp_dictionary= pd.read_csv('Data/sp_dictionary.csv')\n",
    "sp=list(sp_dictionary['Shorten Name'])\n",
    "property_count=['no_Providers', 'no_Vendors', 'no_PCPs', 'no_PlaceSvcs',\n",
    "       'no_Specialities', 'no_PrimaryConditionGroups', 'no_ProcedureGroups']\n",
    "property_max=['PayDelay_max', 'LOS_max', 'dsfs_max', 'CharlsonIndexI_max']\n",
    "property_min=['PayDelay_min', 'LOS_min', 'dsfs_min', 'CharlsonIndexI_min']\n",
    "property_ave=['PayDelay_ave', 'LOS_ave', 'dsfs_ave', 'CharlsonIndexI_ave']\n",
    "property_std=['PayDelay_stdev', 'LOS_stdev', 'dsfs_stdev', 'CharlsonIndexI_stdev'] #drop CharlsonIndex, PayDelay\n",
    "property_range=['CharlsonIndexI_range']\n",
    "los=['los_tot_unknown', 'los_tot_suppressed', 'los_tot_known']\n",
    "\n",
    "property_LabCount=['labCount_min', 'labCount_max', 'labCount_ave', 'labcount_months','labNull']\n",
    "\n",
    "property_DrugCount=['DrugCountMin', 'DrugCountMax', 'DrugCountMean', 'DrugCount','drugNull']\n",
    "age= ['age_05', 'age_15', 'age_25',\n",
    "       'age_35', 'age_45', 'age_55', 'age_65',\n",
    "      'age_75', 'age_85', 'age_MISS']\n",
    "sex=[ 'sexMALE', 'sexFEMALE', 'sexMISS']"
   ]
  },
  {
   "cell_type": "markdown",
   "metadata": {},
   "source": [
    "### Correlation"
   ]
  },
  {
   "cell_type": "code",
   "execution_count": null,
   "metadata": {},
   "outputs": [],
   "source": [
    "corr = train[list(set(property_count).union(set(los)))].corr()\n",
    "\n",
    "corr.style.background_gradient().set_precision(2)"
   ]
  },
  {
   "cell_type": "code",
   "execution_count": null,
   "metadata": {},
   "outputs": [],
   "source": [
    "corr = train[list(set(property_max).union(set(los)))].corr()\n",
    "\n",
    "corr.style.background_gradient().set_precision(2) "
   ]
  },
  {
   "cell_type": "code",
   "execution_count": null,
   "metadata": {},
   "outputs": [],
   "source": [
    "corr = train[list(set(property_min).union(set(los)))].corr()\n",
    "corr.style.background_gradient().set_precision(2)"
   ]
  },
  {
   "cell_type": "code",
   "execution_count": null,
   "metadata": {},
   "outputs": [],
   "source": [
    "corr = train[list(set(property_ave).union(set(los)))].corr()\n",
    "corr.style.background_gradient().set_precision(2)"
   ]
  },
  {
   "cell_type": "code",
   "execution_count": null,
   "metadata": {},
   "outputs": [],
   "source": [
    "corr = train[list(set(property_LabCount).union(set(los)))].corr()\n",
    "\n",
    "corr.style.background_gradient().set_precision(2)"
   ]
  },
  {
   "cell_type": "code",
   "execution_count": null,
   "metadata": {},
   "outputs": [],
   "source": [
    "corr = train[list(set(property_DrugCount).union(set(los)))].corr()\n",
    "\n",
    "corr.style.background_gradient().set_precision(2)"
   ]
  },
  {
   "cell_type": "code",
   "execution_count": null,
   "metadata": {},
   "outputs": [],
   "source": [
    "X=train.drop(['Year','ClaimsTruncated','MemberID'],axis=1, inplace=False)"
   ]
  },
  {
   "cell_type": "code",
   "execution_count": null,
   "metadata": {},
   "outputs": [],
   "source": [
    "corr = X.corr()\n",
    "corr.style.background_gradient().set_precision(2)"
   ]
  },
  {
   "cell_type": "code",
   "execution_count": 127,
   "metadata": {},
   "outputs": [
    {
     "data": {
      "image/png": "[encoded data removed]",
      "text/plain": [
       "<Figure size 432x288 with 1 Axes>"
      ]
     },
     "metadata": {
      "needs_background": "light"
     },
     "output_type": "display_data"
    }
   ],
   "source": [
    "num_bins = 16\n",
    "n, bins, patches = plt.hist(X['DrugCount'], num_bins, facecolor='blue', alpha=0.5)\n",
    "plt.show()"
   ]
  }
 ],
 "metadata": {
  "kernelspec": {
   "display_name": "Python 3",
   "language": "python",
   "name": "python3"
  },
  "language_info": {
   "codemirror_mode": {
    "name": "ipython",
    "version": 3
   },
   "file_extension": ".py",
   "mimetype": "text/x-python",
   "name": "python",
   "nbconvert_exporter": "python",
   "pygments_lexer": "ipython3",
   "version": "3.7.1"
  }
 },
 "nbformat": 4,
 "nbformat_minor": 2
}
