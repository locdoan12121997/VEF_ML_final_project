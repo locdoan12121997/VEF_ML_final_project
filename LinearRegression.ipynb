{
 "cells": [
  {
   "cell_type": "code",
   "execution_count": 1,
   "metadata": {},
   "outputs": [],
   "source": [
    "import numpy as np\n",
    "import pandas as pd\n",
    "from sklearn.metrics import mean_squared_error\n",
    "from math import sqrt\n",
    "from sklearn.model_selection import train_test_split\n",
    "from sklearn.linear_model import LinearRegression"
   ]
  },
  {
   "cell_type": "code",
   "execution_count": 2,
   "metadata": {},
   "outputs": [],
   "source": [
    "def rmse(y_act,y_pred):\n",
    "    rms=sqrt(mean_squared_error(y_act,y_pred))\n",
    "    return rms"
   ]
  },
  {
   "cell_type": "code",
   "execution_count": 3,
   "metadata": {},
   "outputs": [],
   "source": [
    "#The data have no provideID and vendorID\n",
    "train = pd.read_csv('Data/train_data_hhp1.csv')\n",
    "\n",
    "X_train, X_validation = train_test_split(train, test_size=0.3, random_state=0)\n",
    "X_test = pd.read_csv('Data/test_data_hhp1.csv')\n",
    "\n",
    "Y_train = X_train['DaysInHospital']\n",
    "Y_test = test['DaysInHospital']\n",
    "Y_validation = X_validation['DaysInHospital']\n",
    "\n",
    "X_train.drop(['DaysInHospital', 'Year', 'ClaimsTruncated', 'MemberID'], axis=1, inplace=True)\n",
    "X_test.drop(['DaysInHospital', 'Year', 'ClaimsTruncated', 'MemberID'], axis=1, inplace=True)\n",
    "X_validation.drop(['DaysInHospital', 'Year', 'ClaimsTruncated', 'MemberID'], axis=1, inplace=True)"
   ]
  },
  {
   "cell_type": "code",
   "execution_count": 5,
   "metadata": {},
   "outputs": [],
   "source": [
    "logYtrain=np.log(Ytrain+1)\n",
    "logYtest=np.log(Ytest+1)\n",
    "logYvalidation=np.log(Yvalidation+1)"
   ]
  },
  {
   "cell_type": "code",
   "execution_count": 6,
   "metadata": {},
   "outputs": [],
   "source": [
    "#for unscaled data\n",
    "reg = LinearRegression()\n",
    "reg.fit(train, logYtrain)\n",
    "logY_pred_test = reg.predict(test)\n",
    "logY_pred_train = reg.predict(train)\n",
    "logY_pred_validation = reg.predict(validation)"
   ]
  },
  {
   "cell_type": "code",
   "execution_count": 9,
   "metadata": {},
   "outputs": [
    {
     "name": "stdout",
     "output_type": "stream",
     "text": [
      "RSME on traing set 0.46015263691543346 RSME on validation set 849049809.2429297 RSME on testing set 1071371.5369369388\n"
     ]
    }
   ],
   "source": [
    "#truncated output\n",
    "logY_pred_test[logY_pred_test < 0] = 0\n",
    "logY_pred_train[logY_pred_train < 0] = 0\n",
    "logY_pred_validation[logY_pred_validation < 0] = 0\n",
    "print('RSME on traing set',rmse(logYtrain, logY_pred_train),\n",
    "      'RSME on validation set',rmse(logYvalidation, logY_pred_validation),\n",
    "      'RSME on testing set',rmse(logYtest, logY_pred_test),\n",
    "     )"
   ]
  }
 ],
 "metadata": {
  "kernelspec": {
   "display_name": "Python 3",
   "language": "python",
   "name": "python3"
  },
  "language_info": {
   "codemirror_mode": {
    "name": "ipython",
    "version": 3
   },
   "file_extension": ".py",
   "mimetype": "text/x-python",
   "name": "python",
   "nbconvert_exporter": "python",
   "pygments_lexer": "ipython3",
   "version": "3.7.1"
  }
 },
 "nbformat": 4,
 "nbformat_minor": 2
}
