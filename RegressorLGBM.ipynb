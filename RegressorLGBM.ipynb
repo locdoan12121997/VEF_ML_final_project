{
 "cells": [
  {
   "cell_type": "code",
   "execution_count": 0,
   "metadata": {
    "colab": {
     "base_uri": "https://localhost:8080/",
     "height": 34
    },
    "colab_type": "code",
    "executionInfo": {
     "elapsed": 826,
     "status": "ok",
     "timestamp": 1548849749025,
     "user": {
      "displayName": "Phạm Hải Hà",
      "photoUrl": "",
      "userId": "08979977117278542738"
     },
     "user_tz": -420
    },
    "id": "VG4S3zcac2uV",
    "outputId": "1a1fef3e-f820-40ce-fc1d-235432c58102"
   },
   "outputs": [
    {
     "name": "stdout",
     "output_type": "stream",
     "text": [
      "Drive already mounted at /content/drive; to attempt to forcibly remount, call drive.mount(\"/content/drive\", force_remount=True).\n"
     ]
    }
   ],
   "source": [
    "import pandas as pd\n",
    "import numpy as np\n",
    "from google.colab import drive\n",
    "from lightgbm import LGBMRegressor\n",
    "import matplotlib.pyplot as plt\n",
    "from sklearn.model_selection import train_test_split\n",
    "from sklearn.metrics import mean_squared_error\n",
    "from math import sqrt\n",
    "\n",
    "drive.mount('/content/drive')"
   ]
  },
  {
   "cell_type": "code",
   "execution_count": 0,
   "metadata": {
    "colab": {},
    "colab_type": "code",
    "id": "KnwedXi80A-n"
   },
   "outputs": [],
   "source": [
    "def rmse(logY_pred,logY_act):\n",
    "    rms = sqrt(mean_squared_error(logY_pred, logY_act))\n",
    "    return rms"
   ]
  },
  {
   "cell_type": "markdown",
   "metadata": {
    "colab_type": "text",
    "id": "VZrQ-up7GBka"
   },
   "source": [
    "import original data"
   ]
  },
  {
   "cell_type": "code",
   "execution_count": 0,
   "metadata": {
    "colab": {},
    "colab_type": "code",
    "id": "i7AoKlG9waTU"
   },
   "outputs": [],
   "source": [
    "#without ProviderID and VendorID\n",
    "X_train = pd.read_csv('drive/My Drive/Colab Notebooks/Data/train_data_hhp1.csv')\n",
    "X_year_2 = X_train\n",
    "X_test = pd.read_csv('drive/My Drive/Colab Notebooks/Data/test_data_hhp1.csv')\n",
    "X_train, X_validation = train_test_split(X_train, test_size=0.3, random_state=0)\n",
    "\n",
    "Y_train = X_train['DaysInHospital']\n",
    "Y_test = X_test['DaysInHospital']\n",
    "Y_validation = X_validation['DaysInHospital']\n",
    "\n",
    "X_train.drop(['DaysInHospital', 'Year', 'ClaimsTruncated', 'MemberID'], axis=1, inplace=True)\n",
    "X_test.drop(['DaysInHospital', 'Year', 'ClaimsTruncated', 'MemberID'], axis=1, inplace=True)\n",
    "X_validation.drop(['DaysInHospital', 'Year', 'ClaimsTruncated', 'MemberID'], axis=1, inplace=True)\n",
    "\n",
    "X_year_2.drop(['DaysInHospital','Year','ClaimsTruncated','MemberID'], axis=1, inplace=True)"
   ]
  },
  {
   "cell_type": "markdown",
   "metadata": {
    "colab_type": "text",
    "id": "eN6XJBCXGFYO"
   },
   "source": [
    "Scale input"
   ]
  },
  {
   "cell_type": "code",
   "execution_count": 9,
   "metadata": {
    "colab": {
     "base_uri": "https://localhost:8080/",
     "height": 389
    },
    "colab_type": "code",
    "executionInfo": {
     "elapsed": 1283,
     "status": "ok",
     "timestamp": 1548856895510,
     "user": {
      "displayName": "Phạm Hải Hà",
      "photoUrl": "",
      "userId": "08979977117278542738"
     },
     "user_tz": -420
    },
    "id": "2r0Eru8214hR",
    "outputId": "5d3e32a7-0df8-4d44-9cbd-fb304bfb548e"
   },
   "outputs": [
    {
     "name": "stderr",
     "output_type": "stream",
     "text": [
      "/usr/local/lib/python3.6/dist-packages/sklearn/preprocessing/data.py:323: DataConversionWarning: Data with input dtype int64, float64 were all converted to float64 by MinMaxScaler.\n",
      "  return self.partial_fit(X, y)\n",
      "/usr/local/lib/python3.6/dist-packages/sklearn/preprocessing/data.py:323: DataConversionWarning: Data with input dtype int64, float64 were all converted to float64 by MinMaxScaler.\n",
      "  return self.partial_fit(X, y)\n",
      "/usr/local/lib/python3.6/dist-packages/sklearn/preprocessing/data.py:323: DataConversionWarning: Data with input dtype int64, float64 were all converted to float64 by MinMaxScaler.\n",
      "  return self.partial_fit(X, y)\n",
      "/usr/local/lib/python3.6/dist-packages/sklearn/preprocessing/data.py:323: DataConversionWarning: Data with input dtype int64, float64 were all converted to float64 by MinMaxScaler.\n",
      "  return self.partial_fit(X, y)\n"
     ]
    },
    {
     "data": {
      "text/html": [
       "<div>\n",
       "<style scoped>\n",
       "    .dataframe tbody tr th:only-of-type {\n",
       "        vertical-align: middle;\n",
       "    }\n",
       "\n",
       "    .dataframe tbody tr th {\n",
       "        vertical-align: top;\n",
       "    }\n",
       "\n",
       "    .dataframe thead th {\n",
       "        text-align: right;\n",
       "    }\n",
       "</style>\n",
       "<table border=\"1\" class=\"dataframe\">\n",
       "  <thead>\n",
       "    <tr style=\"text-align: right;\">\n",
       "      <th></th>\n",
       "      <th>age_05</th>\n",
       "      <th>age_15</th>\n",
       "      <th>age_25</th>\n",
       "      <th>age_35</th>\n",
       "      <th>age_45</th>\n",
       "      <th>age_55</th>\n",
       "      <th>age_65</th>\n",
       "      <th>age_75</th>\n",
       "      <th>age_85</th>\n",
       "      <th>age_MISS</th>\n",
       "      <th>...</th>\n",
       "      <th>DrugCountMin</th>\n",
       "      <th>DrugCountMax</th>\n",
       "      <th>DrugCountMean</th>\n",
       "      <th>DrugCount</th>\n",
       "      <th>labCount_min</th>\n",
       "      <th>labCount_max</th>\n",
       "      <th>labCount_ave</th>\n",
       "      <th>labcount_months</th>\n",
       "      <th>labNull</th>\n",
       "      <th>drugNull</th>\n",
       "    </tr>\n",
       "  </thead>\n",
       "  <tbody>\n",
       "    <tr>\n",
       "      <th>0</th>\n",
       "      <td>0.0</td>\n",
       "      <td>0.0</td>\n",
       "      <td>0.0</td>\n",
       "      <td>0.0</td>\n",
       "      <td>0.0</td>\n",
       "      <td>0.0</td>\n",
       "      <td>1.0</td>\n",
       "      <td>0.0</td>\n",
       "      <td>0.0</td>\n",
       "      <td>0.0</td>\n",
       "      <td>...</td>\n",
       "      <td>0.142857</td>\n",
       "      <td>0.285714</td>\n",
       "      <td>0.250000</td>\n",
       "      <td>1.000000</td>\n",
       "      <td>0.0</td>\n",
       "      <td>0.0</td>\n",
       "      <td>0.00</td>\n",
       "      <td>0.000000</td>\n",
       "      <td>0.0</td>\n",
       "      <td>0.0</td>\n",
       "    </tr>\n",
       "    <tr>\n",
       "      <th>1</th>\n",
       "      <td>0.0</td>\n",
       "      <td>0.0</td>\n",
       "      <td>0.0</td>\n",
       "      <td>0.0</td>\n",
       "      <td>0.0</td>\n",
       "      <td>1.0</td>\n",
       "      <td>0.0</td>\n",
       "      <td>0.0</td>\n",
       "      <td>0.0</td>\n",
       "      <td>0.0</td>\n",
       "      <td>...</td>\n",
       "      <td>0.285714</td>\n",
       "      <td>0.714286</td>\n",
       "      <td>0.500000</td>\n",
       "      <td>0.166667</td>\n",
       "      <td>0.2</td>\n",
       "      <td>0.2</td>\n",
       "      <td>0.20</td>\n",
       "      <td>0.083333</td>\n",
       "      <td>0.0</td>\n",
       "      <td>0.0</td>\n",
       "    </tr>\n",
       "    <tr>\n",
       "      <th>2</th>\n",
       "      <td>0.0</td>\n",
       "      <td>0.0</td>\n",
       "      <td>0.0</td>\n",
       "      <td>0.0</td>\n",
       "      <td>0.0</td>\n",
       "      <td>0.0</td>\n",
       "      <td>1.0</td>\n",
       "      <td>0.0</td>\n",
       "      <td>0.0</td>\n",
       "      <td>0.0</td>\n",
       "      <td>...</td>\n",
       "      <td>0.000000</td>\n",
       "      <td>0.000000</td>\n",
       "      <td>0.000000</td>\n",
       "      <td>0.000000</td>\n",
       "      <td>0.2</td>\n",
       "      <td>0.5</td>\n",
       "      <td>0.35</td>\n",
       "      <td>0.166667</td>\n",
       "      <td>0.0</td>\n",
       "      <td>0.0</td>\n",
       "    </tr>\n",
       "    <tr>\n",
       "      <th>3</th>\n",
       "      <td>0.0</td>\n",
       "      <td>0.0</td>\n",
       "      <td>0.0</td>\n",
       "      <td>0.0</td>\n",
       "      <td>0.0</td>\n",
       "      <td>0.0</td>\n",
       "      <td>0.0</td>\n",
       "      <td>0.0</td>\n",
       "      <td>0.0</td>\n",
       "      <td>1.0</td>\n",
       "      <td>...</td>\n",
       "      <td>0.000000</td>\n",
       "      <td>0.000000</td>\n",
       "      <td>0.000000</td>\n",
       "      <td>0.000000</td>\n",
       "      <td>0.7</td>\n",
       "      <td>0.7</td>\n",
       "      <td>0.70</td>\n",
       "      <td>0.083333</td>\n",
       "      <td>0.0</td>\n",
       "      <td>0.0</td>\n",
       "    </tr>\n",
       "    <tr>\n",
       "      <th>4</th>\n",
       "      <td>0.0</td>\n",
       "      <td>0.0</td>\n",
       "      <td>0.0</td>\n",
       "      <td>1.0</td>\n",
       "      <td>0.0</td>\n",
       "      <td>0.0</td>\n",
       "      <td>0.0</td>\n",
       "      <td>0.0</td>\n",
       "      <td>0.0</td>\n",
       "      <td>0.0</td>\n",
       "      <td>...</td>\n",
       "      <td>0.142857</td>\n",
       "      <td>0.142857</td>\n",
       "      <td>0.142857</td>\n",
       "      <td>0.166667</td>\n",
       "      <td>0.0</td>\n",
       "      <td>0.0</td>\n",
       "      <td>0.00</td>\n",
       "      <td>0.000000</td>\n",
       "      <td>0.0</td>\n",
       "      <td>0.0</td>\n",
       "    </tr>\n",
       "  </tbody>\n",
       "</table>\n",
       "<p>5 rows × 136 columns</p>\n",
       "</div>"
      ],
      "text/plain": [
       "   age_05  age_15  age_25  age_35  age_45  age_55  age_65  age_75  age_85  \\\n",
       "0     0.0     0.0     0.0     0.0     0.0     0.0     1.0     0.0     0.0   \n",
       "1     0.0     0.0     0.0     0.0     0.0     1.0     0.0     0.0     0.0   \n",
       "2     0.0     0.0     0.0     0.0     0.0     0.0     1.0     0.0     0.0   \n",
       "3     0.0     0.0     0.0     0.0     0.0     0.0     0.0     0.0     0.0   \n",
       "4     0.0     0.0     0.0     1.0     0.0     0.0     0.0     0.0     0.0   \n",
       "\n",
       "   age_MISS    ...     DrugCountMin  DrugCountMax  DrugCountMean  DrugCount  \\\n",
       "0       0.0    ...         0.142857      0.285714       0.250000   1.000000   \n",
       "1       0.0    ...         0.285714      0.714286       0.500000   0.166667   \n",
       "2       0.0    ...         0.000000      0.000000       0.000000   0.000000   \n",
       "3       1.0    ...         0.000000      0.000000       0.000000   0.000000   \n",
       "4       0.0    ...         0.142857      0.142857       0.142857   0.166667   \n",
       "\n",
       "   labCount_min  labCount_max  labCount_ave  labcount_months  labNull  \\\n",
       "0           0.0           0.0          0.00         0.000000      0.0   \n",
       "1           0.2           0.2          0.20         0.083333      0.0   \n",
       "2           0.2           0.5          0.35         0.166667      0.0   \n",
       "3           0.7           0.7          0.70         0.083333      0.0   \n",
       "4           0.0           0.0          0.00         0.000000      0.0   \n",
       "\n",
       "   drugNull  \n",
       "0       0.0  \n",
       "1       0.0  \n",
       "2       0.0  \n",
       "3       0.0  \n",
       "4       0.0  \n",
       "\n",
       "[5 rows x 136 columns]"
      ]
     },
     "execution_count": 9,
     "metadata": {
      "tags": []
     },
     "output_type": "execute_result"
    }
   ],
   "source": [
    "from sklearn.preprocessing import MinMaxScaler\n",
    "\n",
    "sc = MinMaxScaler()\n",
    "col_name = X_train.columns\n",
    "\n",
    "X_train_scaled = sc.fit_transform(X_train)\n",
    "X_test_scaled = sc.transform(X_test)\n",
    "X_validation_scaled = sc.transform(X_validation)\n",
    "X_year_2_scaled = sc.transform(X_year_2)\n",
    "\n",
    "#add features name\n",
    "X_year_2_scaled = pd.DataFrame(X_year_2_scaled , columns=col_name)\n",
    "X_train_scaled = pd.DataFrame(X_train_scaled, columns=col_name)\n",
    "X_test_scaled = pd.DataFrame(X_test_scaled, columns=col_name)\n",
    "X_validation_scaled = pd.DataFrame(X_validation_scaled, columns=col_name)\n",
    "\n",
    "X_train_scaled.head()"
   ]
  },
  {
   "cell_type": "markdown",
   "metadata": {
    "colab_type": "text",
    "id": "U3BP7PEyGKUP"
   },
   "source": [
    "Convert output to log scale"
   ]
  },
  {
   "cell_type": "code",
   "execution_count": 0,
   "metadata": {
    "colab": {},
    "colab_type": "code",
    "id": "zUpMaPx70Wzw"
   },
   "outputs": [],
   "source": [
    "logYtrain = np.log(Y_train+1)\n",
    "logYtest = np.log(Y_test+1)\n",
    "logYvalidation = np.log(Y_validation+1)"
   ]
  },
  {
   "cell_type": "markdown",
   "metadata": {
    "colab_type": "text",
    "id": "9LG4mQ0TzYto"
   },
   "source": [
    "Training - predict"
   ]
  },
  {
   "cell_type": "code",
   "execution_count": 0,
   "metadata": {
    "colab": {},
    "colab_type": "code",
    "id": "t7to97qn7196"
   },
   "outputs": [],
   "source": [
    "#Initialize LGBM\n",
    "gbm_regr = LGBMRegressor(objective='regression', \n",
    "                     boosting_type='dart', \n",
    "                     metric='rmse',\n",
    "                     n_estimators=4500,\n",
    "                     num_leaves=30, \n",
    "                     learning_rate=0.005, \n",
    "                     bagging_fraction=0.9,\n",
    "                     feature_fraction=0.3,\n",
    "                     bagging_seed=0,\n",
    "                     max_depth=6,\n",
    "                     reg_alpha=0.436193,\n",
    "                     reg_lambda=0.479169,\n",
    "                     colsample_bytree=0.508716,\n",
    "                     min_split_gain=0.024766,\n",
    "                    )"
   ]
  },
  {
   "cell_type": "code",
   "execution_count": 0,
   "metadata": {
    "colab": {},
    "colab_type": "code",
    "id": "eJwX-nKW0gLp"
   },
   "outputs": [],
   "source": [
    "GBMregr = gbm_regr.fit(X_train_scaled ,logYtrain)"
   ]
  },
  {
   "cell_type": "markdown",
   "metadata": {
    "colab_type": "text",
    "id": "L1lM_BnIzeFl"
   },
   "source": [
    "Evaluate model"
   ]
  },
  {
   "cell_type": "code",
   "execution_count": 0,
   "metadata": {
    "colab": {},
    "colab_type": "code",
    "id": "3SGyTNjo2p0a"
   },
   "outputs": [],
   "source": [
    "logY_pred_test = gbm_regr.predict(X_test_scaled, num_iteration= gbm_regr.best_iteration_)\n",
    "logY_pred_validation = gbm_regr.predict(X_validation_scaled, num_iteration= gbm_regr.best_iteration_)\n",
    "\n",
    "logY_pred_train = gbm_regr.predict(X_train_scaled, num_iteration= gbm_regr.best_iteration_)\n",
    "\n",
    "#RMSLE after truncated\n",
    "#truncated output\n",
    "logY_pred_test[logY_pred_test < 0] = 0\n",
    "logY_pred_train[logY_pred_train < 0] = 0\n",
    "logY_pred_validation[logY_pred_validation < 0] = 0\n",
    "\n",
    "print('error on training set: ', rmse(logYtrain, logY_pred_train),\n",
    "     'error on validation set: ', rmse(logYvalidation, logY_pred_validation),\n",
    "      'error on testing set: ', rmse(logYtest, logY_pred_test)\n",
    "    )"
   ]
  },
  {
   "cell_type": "code",
   "execution_count": 0,
   "metadata": {
    "colab": {},
    "colab_type": "code",
    "id": "ZEv4VQ4JGmIp"
   },
   "outputs": [],
   "source": [
    "logY2_pred = gbm_regr.predict(X_year_2, num_iteration= gbm_regr.best_iteration_)\n",
    "logY2_pred[logY2_pred < 0] = 0\n",
    "Y2_pred = np.exp(logY2_pred)\n",
    "Y3_pred = np.exp(logY_pred_test)\n",
    "\n",
    "Y2_pred = pd.DataFrame(Y2_pred, columns=['Y_pred_LGBM_scaled1'])\n",
    "Y3_pred = pd.DataFrame(Y3_pred, columns=['Y_pred_LGBM_scaled1'])\n",
    "#Y_pred_validation= pd.DataFrame(Y_pred_validation, columns=['Y_pred_LGBM'])\n",
    "\n",
    "pd.DataFrame(Y2_pred).to_csv(\"drive/My Drive/Colab Notebooks/Data/Y2_pred_LGBM1.csv\", encoding='utf-8')\n",
    "#pd.DataFrame(Y_pred_validation).to_csv(\"Data/Y_pred_validation_LGBM.csv\", encoding='utf-8')\n",
    "pd.DataFrame(Y3_pred).to_csv(\"drive/My Drive/Colab Notebooks/Data/Y3_pred_LGBM1.csv\", encoding='utf-8')"
   ]
  },
  {
   "cell_type": "code",
   "execution_count": 0,
   "metadata": {
    "colab": {
     "base_uri": "https://localhost:8080/",
     "height": 541
    },
    "colab_type": "code",
    "executionInfo": {
     "elapsed": 643179,
     "status": "ok",
     "timestamp": 1548680066400,
     "user": {
      "displayName": "Phạm Hải Hà",
      "photoUrl": "",
      "userId": "08979977117278542738"
     },
     "user_tz": -420
    },
    "id": "VRFj_4mDH6oB",
    "outputId": "68f8da90-f3b5-43ec-b8a6-2fa66cbdb704"
   },
   "outputs": [
    {
     "data": {
      "image/png": "[encoded data removed]",
      "text/plain": [
       "<Figure size 864x576 with 1 Axes>"
      ]
     },
     "metadata": {
      "tags": []
     },
     "output_type": "display_data"
    }
   ],
   "source": [
    "# Plot the top 20 important features\n",
    "imp_feat_rf = pd.Series(gbm_regr.feature_importances_, index=X_train_scaled.columns).sort_values(ascending=False)\n",
    "imp_feat_rf[:40].plot(kind='bar', title='Feature Importance with Random Forest', figsize=(12,8))\n",
    "plt.ylabel('Feature Importance values')\n",
    "plt.subplots_adjust(bottom=0.25)\n",
    "plt.savefig('FeatImportance.png')\n",
    "plt.show()"
   ]
  },
  {
   "cell_type": "code",
   "execution_count": 0,
   "metadata": {
    "colab": {},
    "colab_type": "code",
    "id": "hdms8SLsJooa"
   },
   "outputs": [],
   "source": [
    "#remove all features with 0 important value\n",
    "list1 = list()\n",
    "for indx, val in imp_feat_rf.iteritems():\n",
    "  #print(indx,val)\n",
    "  if val==0:\n",
    "    list1.append(indx)"
   ]
  },
  {
   "cell_type": "code",
   "execution_count": 0,
   "metadata": {
    "colab": {
     "base_uri": "https://localhost:8080/",
     "height": 34
    },
    "colab_type": "code",
    "executionInfo": {
     "elapsed": 746,
     "status": "ok",
     "timestamp": 1548674590917,
     "user": {
      "displayName": "Phạm Hải Hà",
      "photoUrl": "",
      "userId": "08979977117278542738"
     },
     "user_tz": -420
    },
    "id": "bGrkUenOUWBh",
    "outputId": "59be0ce4-0533-4baa-df2f-f7537fda7fcf"
   },
   "outputs": [
    {
     "data": {
      "text/plain": [
       "['pcg42', 'pcg45', 'no_PCPs', 'labNull', 'drugNull']"
      ]
     },
     "execution_count": 42,
     "metadata": {
      "tags": []
     },
     "output_type": "execute_result"
    }
   ],
   "source": [
    "list1"
   ]
  },
  {
   "cell_type": "code",
   "execution_count": 0,
   "metadata": {
    "colab": {},
    "colab_type": "code",
    "id": "3l7sih37Mx_5"
   },
   "outputs": [],
   "source": [
    "X_train_scaled.drop(list1, axis=1, inplace=True)\n",
    "X_validation_scaled.drop(list1, axis=1, inplace=True)\n",
    "X_test_scaled.drop(list1, axis=1, inplace=True)"
   ]
  },
  {
   "cell_type": "code",
   "execution_count": 0,
   "metadata": {
    "colab": {},
    "colab_type": "code",
    "id": "NJjrKUPlM66D"
   },
   "outputs": [],
   "source": [
    "gbm_regr.fit(X_train_scaled, logYtrain)"
   ]
  },
  {
   "cell_type": "code",
   "execution_count": 0,
   "metadata": {
    "colab": {},
    "colab_type": "code",
    "id": "LGWfQpN7NGfK"
   },
   "outputs": [],
   "source": [
    "logY_pred_test = gbm_regr.predict(X_test_scaled, num_iteration=gbm_regr.best_iteration_)\n",
    "logY_pred_validation = gbm_regr.predict(X_validation_scaled, num_iteration=gbm_regr.best_iteration_)\n",
    "\n",
    "logY_pred_train = gbm_regr.predict(X_train_scaled, num_iteration=gbm_regr.best_iteration_)\n",
    "\n",
    "print('error on training set: ', rmsle(logYtrain, logY_pred_train),\n",
    "     'error on validation set: ', rmsle(logYvalidation, logY_pred_validation),\n",
    "      'error on testing set: ', rmsle(logYtest, logY_pred_test)\n",
    "    )"
   ]
  },
  {
   "cell_type": "code",
   "execution_count": 0,
   "metadata": {
    "colab": {},
    "colab_type": "code",
    "id": "UvjzcRBqUuhu"
   },
   "outputs": [],
   "source": [
    "#RMSLE after truncated\n",
    "#truncated output\n",
    "logY_pred_test[logY_pred_test < 0] = 0\n",
    "logY_pred_train[logY_pred_train < 0] = 0\n",
    "logY_pred_validation[logY_pred_validation < 0] = 0\n",
    "\n",
    "print('error on training set: ', rmsle(logYtrain, logY_pred_train),\n",
    "     'error on validation set: ', rmsle(logYvalidation, logY_pred_validation),\n",
    "      'error on testing set: ', rmsle(logYtest, logY_pred_test)\n",
    "    )"
   ]
  },
  {
   "cell_type": "code",
   "execution_count": 0,
   "metadata": {
    "colab": {},
    "colab_type": "code",
    "id": "KoBJK5WsC1QN"
   },
   "outputs": [],
   "source": [
    "logY2_pred = gbm_regr.predict(X_year_2_scaled, num_iteration= gbm_regr.best_iteration_)\n",
    "logY2_pred[logY2_pred < 0] = 0\n",
    "\n",
    "logY2_pred = pd.DataFrame(logY2_pred, columns=['Y_pred_LGBM'])\n",
    "logY3_pred = pd.DataFrame(logY_pred_test, columns=['Y_pred_LGBM'])\n",
    "\n",
    "pd.DataFrame(logY2_pred).to_csv(\"drive/My Drive/Colab Notebooks/Data/Y2_pred_LGBM_scaled.csv\", encoding='utf-8')\n",
    "pd.DataFrame(logY3_pred).to_csv(\"drive/My Drive/Colab Notebooks/Data/Y3_pred_LGBM_scaled.csv\", encoding='utf-8')"
   ]
  }
 ],
 "metadata": {
  "colab": {
   "collapsed_sections": [],
   "name": "RegressorLGBM.ipynb",
   "provenance": [],
   "version": "0.3.2"
  },
  "kernelspec": {
   "display_name": "Python 3",
   "language": "python",
   "name": "python3"
  },
  "language_info": {
   "codemirror_mode": {
    "name": "ipython",
    "version": 3
   },
   "file_extension": ".py",
   "mimetype": "text/x-python",
   "name": "python",
   "nbconvert_exporter": "python",
   "pygments_lexer": "ipython3",
   "version": "3.7.1"
  }
 },
 "nbformat": 4,
 "nbformat_minor": 1
}
