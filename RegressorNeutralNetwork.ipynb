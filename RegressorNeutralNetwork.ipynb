{
 "cells": [
  {
   "cell_type": "code",
   "execution_count": 0,
   "metadata": {
    "colab": {},
    "colab_type": "code",
    "id": "wC1MkACA6QFp"
   },
   "outputs": [],
   "source": [
    "import pandas as pd\n",
    "import tensorflow as tf\n",
    "from tensorflow import keras\n",
    "from tensorflow.keras import layers\n",
    "import numpy as np\n",
    "from math import sqrt\n",
    "from sklearn.metrics import mean_squared_error\n",
    "from sklearn.metrics import mean_absolute_error\n",
    "from sklearn.model_selection import train_test_split"
   ]
  },
  {
   "cell_type": "code",
   "execution_count": 0,
   "metadata": {
    "colab": {},
    "colab_type": "code",
    "id": "YqL__wZ17hD6"
   },
   "outputs": [],
   "source": [
    "#without ProviderID and VendorID\n",
    "X_train = pd.read_csv('drive/My Drive/Colab Notebooks/Data/train_data_hhp1.csv')\n",
    "X_test = pd.read_csv('drive/My Drive/Colab Notebooks/Data/test_data_hhp1.csv')\n",
    "\n",
    "Y_train = X_train['DaysInHospital']\n",
    "Y_test = X_test['DaysInHospital']\n",
    "\n",
    "X_train.drop(['DaysInHospital', 'Year', 'ClaimsTruncated', 'MemberID'], axis=1, inplace=True)\n",
    "X_test.drop(['DaysInHospital', 'Year', 'ClaimsTruncated', 'MemberID'], axis=1, inplace=True)"
   ]
  },
  {
   "cell_type": "code",
   "execution_count": 0,
   "metadata": {
    "colab": {},
    "colab_type": "code",
    "id": "U4BUPH5F8lR3"
   },
   "outputs": [],
   "source": [
    "def rmsle_metric(y_actual, y_predicted):\n",
    "    y_actual_log = np.log(y_actual + 1)\n",
    "    y_predicted_log = np.log(y_predicted + 1)\n",
    "    rms = sqrt(mean_squared_error(y_actual_log, y_predicted_log))\n",
    "    return rms\n",
    "\n",
    "def rmse(logY_pred, logY_act):\n",
    "    rms = sqrt(mean_squared_error(logY_pred, logY_act))\n",
    "    return rms"
   ]
  },
  {
   "cell_type": "code",
   "execution_count": 0,
   "metadata": {
    "colab": {},
    "colab_type": "code",
    "id": "5ulrSi8hpsjd"
   },
   "outputs": [],
   "source": [
    "log_Y_train = np.log(Y_train+1)\n",
    "log_Y_test = np.log(Y_test+1)"
   ]
  },
  {
   "cell_type": "code",
   "execution_count": 0,
   "metadata": {
    "colab": {},
    "colab_type": "code",
    "id": "EugMt2nh8Hbs"
   },
   "outputs": [],
   "source": [
    "def build_model():\n",
    "    model = keras.Sequential([\n",
    "        layers.Dense(15, activation=tf.nn.relu, input_shape=[len(X_train.keys())]),\n",
    "        layers.Dense(10, activation=tf.nn.relu),\n",
    "        layers.Dense(5, activation=tf.nn.relu),\n",
    "        layers.Dense(1)\n",
    "    ])\n",
    "\n",
    "    optimizer = tf.train.RMSPropOptimizer(0.001)\n",
    "\n",
    "    model.compile(loss='mse',\n",
    "                optimizer=optimizer,\n",
    "                metrics=['mae', 'mse'])\n",
    "    return model"
   ]
  },
  {
   "cell_type": "code",
   "execution_count": 0,
   "metadata": {
    "colab": {},
    "colab_type": "code",
    "id": "ulCNhAup8Nl6"
   },
   "outputs": [],
   "source": [
    "model = build_model()"
   ]
  },
  {
   "cell_type": "code",
   "execution_count": 47,
   "metadata": {
    "colab": {
     "base_uri": "https://localhost:8080/",
     "height": 272
    },
    "colab_type": "code",
    "executionInfo": {
     "elapsed": 920,
     "status": "ok",
     "timestamp": 1548854308737,
     "user": {
      "displayName": "Phạm Hải Hà",
      "photoUrl": "",
      "userId": "08979977117278542738"
     },
     "user_tz": -420
    },
    "id": "WUxihnb68SSl",
    "outputId": "7058ef5f-2786-4dfe-d068-e1459616e1e7"
   },
   "outputs": [
    {
     "name": "stdout",
     "output_type": "stream",
     "text": [
      "_________________________________________________________________\n",
      "Layer (type)                 Output Shape              Param #   \n",
      "=================================================================\n",
      "dense_7 (Dense)              (None, 15)                2055      \n",
      "_________________________________________________________________\n",
      "dense_8 (Dense)              (None, 10)                160       \n",
      "_________________________________________________________________\n",
      "dense_9 (Dense)              (None, 5)                 55        \n",
      "_________________________________________________________________\n",
      "dense_10 (Dense)             (None, 1)                 6         \n",
      "=================================================================\n",
      "Total params: 2,276\n",
      "Trainable params: 2,276\n",
      "Non-trainable params: 0\n",
      "_________________________________________________________________\n"
     ]
    }
   ],
   "source": [
    "model.summary()"
   ]
  },
  {
   "cell_type": "code",
   "execution_count": 60,
   "metadata": {
    "colab": {
     "base_uri": "https://localhost:8080/",
     "height": 747
    },
    "colab_type": "code",
    "executionInfo": {
     "elapsed": 262068,
     "status": "ok",
     "timestamp": 1548855573173,
     "user": {
      "displayName": "Phạm Hải Hà",
      "photoUrl": "",
      "userId": "08979977117278542738"
     },
     "user_tz": -420
    },
    "id": "NKvZmRvT9Jfs",
    "outputId": "4ef49046-5caf-4773-bb48-3619c795d28a"
   },
   "outputs": [
    {
     "name": "stdout",
     "output_type": "stream",
     "text": [
      "\n",
      "...................................................................................................."
     ]
    },
    {
     "data": {
      "image/png": "[encoded data removed]",
      "text/plain": [
       "<Figure size 576x396 with 1 Axes>"
      ]
     },
     "metadata": {
      "tags": []
     },
     "output_type": "display_data"
    },
    {
     "data": {
      "image/png": "[encoded data removed]",
      "text/plain": [
       "<Figure size 576x396 with 1 Axes>"
      ]
     },
     "metadata": {
      "tags": []
     },
     "output_type": "display_data"
    }
   ],
   "source": [
    "model = build_model()\n",
    "EPOCHS = 100\n",
    "# The patience parameter is the amount of epochs to check for improvement\n",
    "early_stop = keras.callbacks.EarlyStopping(monitor='val_loss', patience=50)\n",
    "\n",
    "history = model.fit(X_train, log_Y_train, epochs=EPOCHS,\n",
    "                    validation_split = 0.2, verbose=0)"
   ]
  },
  {
   "cell_type": "code",
   "execution_count": 0,
   "metadata": {
    "colab": {},
    "colab_type": "code",
    "id": "D3FiA22goUcE"
   },
   "outputs": [],
   "source": [
    "logY_pred_train = model.predict(X_train).flatten()\n",
    "logY_pred_test = model.predict(X_test).flatten()"
   ]
  },
  {
   "cell_type": "code",
   "execution_count": 0,
   "metadata": {
    "colab": {},
    "colab_type": "code",
    "id": "qFexEXc3Bj8B"
   },
   "outputs": [],
   "source": [
    "#truncated\n",
    "logY_pred_test[logY_pred_test < 0] = 0\n",
    "logY_pred_train[logY_pred_train < 0] = 0\n",
    "Y_pred_train = np.exp(logY_pred_train) - 1\n",
    "Y_pred_test = np.exp(logY_pred_test) - 1"
   ]
  },
  {
   "cell_type": "code",
   "execution_count": 74,
   "metadata": {
    "colab": {
     "base_uri": "https://localhost:8080/",
     "height": 34
    },
    "colab_type": "code",
    "executionInfo": {
     "elapsed": 842,
     "status": "ok",
     "timestamp": 1548856331902,
     "user": {
      "displayName": "Phạm Hải Hà",
      "photoUrl": "",
      "userId": "08979977117278542738"
     },
     "user_tz": -420
    },
    "id": "cGsdennUB1qW",
    "outputId": "f9bfa0eb-e717-4309-ef19-178f2640f88a"
   },
   "outputs": [
    {
     "data": {
      "text/plain": [
       "0.0"
      ]
     },
     "execution_count": 74,
     "metadata": {
      "tags": []
     },
     "output_type": "execute_result"
    }
   ],
   "source": [
    "min(Y_pred_test)"
   ]
  },
  {
   "cell_type": "code",
   "execution_count": 75,
   "metadata": {
    "colab": {
     "base_uri": "https://localhost:8080/",
     "height": 361
    },
    "colab_type": "code",
    "executionInfo": {
     "elapsed": 2019,
     "status": "ok",
     "timestamp": 1548856338759,
     "user": {
      "displayName": "Phạm Hải Hà",
      "photoUrl": "",
      "userId": "08979977117278542738"
     },
     "user_tz": -420
    },
    "id": "b6WhMoy3Bg1q",
    "outputId": "60032699-8055-4ae6-b043-11eba9d9d7c9"
   },
   "outputs": [
    {
     "data": {
      "image/png": "[encoded data removed]",
      "text/plain": [
       "<Figure size 576x396 with 1 Axes>"
      ]
     },
     "metadata": {
      "tags": []
     },
     "output_type": "display_data"
    }
   ],
   "source": [
    "plt.scatter(Y_test, Y_pred_test)\n",
    "plt.xlabel('True Values [MPG]')\n",
    "plt.ylabel('Predictions [MPG]')\n",
    "plt.axis('equal')\n",
    "plt.axis('square')\n",
    "plt.xlim([0,plt.xlim()[1]])\n",
    "plt.ylim([0,plt.ylim()[1]])\n",
    "_ = plt.plot([-100, 100], [-100, 100])"
   ]
  },
  {
   "cell_type": "code",
   "execution_count": 76,
   "metadata": {
    "colab": {
     "base_uri": "https://localhost:8080/",
     "height": 34
    },
    "colab_type": "code",
    "executionInfo": {
     "elapsed": 906,
     "status": "ok",
     "timestamp": 1548856344832,
     "user": {
      "displayName": "Phạm Hải Hà",
      "photoUrl": "",
      "userId": "08979977117278542738"
     },
     "user_tz": -420
    },
    "id": "JUWMkKiEo81I",
    "outputId": "a83d4081-414a-4cb5-feda-353f7f28cace"
   },
   "outputs": [
    {
     "name": "stdout",
     "output_type": "stream",
     "text": [
      "RSME on traing set 0.4600370976849972 RSME on testing set 0.4524685660379211\n"
     ]
    }
   ],
   "source": [
    "print('RSME on traing set',rmse(log_Y_train, logY_pred_train),\n",
    "      'RSME on testing set',rmse(log_Y_test, logY_pred_test)\n",
    "     )"
   ]
  }
 ],
 "metadata": {
  "colab": {
   "collapsed_sections": [],
   "name": "RegressorNeutralNetwork.ipynb",
   "provenance": [],
   "version": "0.3.2"
  },
  "kernelspec": {
   "display_name": "Python 3",
   "language": "python",
   "name": "python3"
  },
  "language_info": {
   "codemirror_mode": {
    "name": "ipython",
    "version": 3
   },
   "file_extension": ".py",
   "mimetype": "text/x-python",
   "name": "python",
   "nbconvert_exporter": "python",
   "pygments_lexer": "ipython3",
   "version": "3.7.1"
  }
 },
 "nbformat": 4,
 "nbformat_minor": 1
}
