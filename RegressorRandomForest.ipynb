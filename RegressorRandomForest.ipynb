{
 "cells": [
  {
   "cell_type": "code",
   "execution_count": 8,
   "metadata": {},
   "outputs": [],
   "source": [
    "import numpy as np\n",
    "import pandas as pd\n",
    "import matplotlib.pyplot as plt\n",
    "from sklearn.metrics import mean_squared_error\n",
    "from math import sqrt\n",
    "from sklearn.model_selection import train_test_split\n",
    "from sklearn.ensemble.forest import RandomForestRegressor"
   ]
  },
  {
   "cell_type": "code",
   "execution_count": 9,
   "metadata": {},
   "outputs": [],
   "source": [
    "def rmse(logY_pred,logY_act):\n",
    "    rms=sqrt(mean_squared_error(logY_pred, logY_act))\n",
    "    return rms"
   ]
  },
  {
   "cell_type": "code",
   "execution_count": 10,
   "metadata": {},
   "outputs": [],
   "source": [
    "train = pd.read_csv('Data/train_data_hhp.csv')\n",
    "test = pd.read_csv('Data/test_data_hhp.csv')\n",
    "\n",
    "train, validation = train_test_split(train,test_size=0.3,random_state=0)\n",
    "\n",
    "year_2_data = pd.read_csv('Data/train_data_hhp.csv')\n",
    "year_2_data.drop(['DaysInHospital','Year','ClaimsTruncated','MemberID'], axis=1, inplace=True)\n",
    "\n",
    "Ytrain = train['DaysInHospital']\n",
    "Ytest = test['DaysInHospital']#, axis=1, inplace=True)\n",
    "Yvalidation = validation['DaysInHospital']\n",
    "\n",
    "train.drop(['DaysInHospital','Year','ClaimsTruncated','MemberID'],axis=1, inplace=True)\n",
    "test.drop(['DaysInHospital','Year','ClaimsTruncated','MemberID'],axis=1, inplace=True)\n",
    "validation.drop(['DaysInHospital','Year','ClaimsTruncated','MemberID'],axis=1, inplace=True)"
   ]
  },
  {
   "cell_type": "markdown",
   "metadata": {},
   "source": [
    "### Scale input"
   ]
  },
  {
   "cell_type": "code",
   "execution_count": 11,
   "metadata": {},
   "outputs": [
    {
     "name": "stderr",
     "output_type": "stream",
     "text": [
      "/anaconda3/lib/python3.7/site-packages/sklearn/preprocessing/data.py:323: DataConversionWarning: Data with input dtype bool, int64, float64 were all converted to float64 by MinMaxScaler.\n",
      "  return self.partial_fit(X, y)\n",
      "/anaconda3/lib/python3.7/site-packages/sklearn/preprocessing/data.py:323: DataConversionWarning: Data with input dtype bool, int64, float64 were all converted to float64 by MinMaxScaler.\n",
      "  return self.partial_fit(X, y)\n",
      "/anaconda3/lib/python3.7/site-packages/sklearn/preprocessing/data.py:323: DataConversionWarning: Data with input dtype bool, int64, float64 were all converted to float64 by MinMaxScaler.\n",
      "  return self.partial_fit(X, y)\n",
      "/anaconda3/lib/python3.7/site-packages/sklearn/preprocessing/data.py:323: DataConversionWarning: Data with input dtype bool, int64, float64 were all converted to float64 by MinMaxScaler.\n",
      "  return self.partial_fit(X, y)\n"
     ]
    },
    {
     "data": {
      "text/html": [
       "<div>\n",
       "<style scoped>\n",
       "    .dataframe tbody tr th:only-of-type {\n",
       "        vertical-align: middle;\n",
       "    }\n",
       "\n",
       "    .dataframe tbody tr th {\n",
       "        vertical-align: top;\n",
       "    }\n",
       "\n",
       "    .dataframe thead th {\n",
       "        text-align: right;\n",
       "    }\n",
       "</style>\n",
       "<table border=\"1\" class=\"dataframe\">\n",
       "  <thead>\n",
       "    <tr style=\"text-align: right;\">\n",
       "      <th></th>\n",
       "      <th>age_05</th>\n",
       "      <th>age_15</th>\n",
       "      <th>age_25</th>\n",
       "      <th>age_35</th>\n",
       "      <th>age_45</th>\n",
       "      <th>age_55</th>\n",
       "      <th>age_65</th>\n",
       "      <th>age_75</th>\n",
       "      <th>age_85</th>\n",
       "      <th>age_MISS</th>\n",
       "      <th>...</th>\n",
       "      <th>DrugCountMin</th>\n",
       "      <th>DrugCountMax</th>\n",
       "      <th>DrugCountMean</th>\n",
       "      <th>DrugCount</th>\n",
       "      <th>labCount_min</th>\n",
       "      <th>labCount_max</th>\n",
       "      <th>labCount_ave</th>\n",
       "      <th>labcount_months</th>\n",
       "      <th>labNull</th>\n",
       "      <th>drugNull</th>\n",
       "    </tr>\n",
       "  </thead>\n",
       "  <tbody>\n",
       "    <tr>\n",
       "      <th>0</th>\n",
       "      <td>0.0</td>\n",
       "      <td>0.0</td>\n",
       "      <td>0.0</td>\n",
       "      <td>0.0</td>\n",
       "      <td>0.0</td>\n",
       "      <td>0.0</td>\n",
       "      <td>1.0</td>\n",
       "      <td>0.0</td>\n",
       "      <td>0.0</td>\n",
       "      <td>0.0</td>\n",
       "      <td>...</td>\n",
       "      <td>0.142857</td>\n",
       "      <td>0.285714</td>\n",
       "      <td>0.250000</td>\n",
       "      <td>1.000000</td>\n",
       "      <td>0.0</td>\n",
       "      <td>0.0</td>\n",
       "      <td>0.00</td>\n",
       "      <td>0.000000</td>\n",
       "      <td>0.0</td>\n",
       "      <td>0.0</td>\n",
       "    </tr>\n",
       "    <tr>\n",
       "      <th>1</th>\n",
       "      <td>0.0</td>\n",
       "      <td>0.0</td>\n",
       "      <td>0.0</td>\n",
       "      <td>0.0</td>\n",
       "      <td>0.0</td>\n",
       "      <td>1.0</td>\n",
       "      <td>0.0</td>\n",
       "      <td>0.0</td>\n",
       "      <td>0.0</td>\n",
       "      <td>0.0</td>\n",
       "      <td>...</td>\n",
       "      <td>0.285714</td>\n",
       "      <td>0.714286</td>\n",
       "      <td>0.500000</td>\n",
       "      <td>0.166667</td>\n",
       "      <td>0.2</td>\n",
       "      <td>0.2</td>\n",
       "      <td>0.20</td>\n",
       "      <td>0.083333</td>\n",
       "      <td>0.0</td>\n",
       "      <td>0.0</td>\n",
       "    </tr>\n",
       "    <tr>\n",
       "      <th>2</th>\n",
       "      <td>0.0</td>\n",
       "      <td>0.0</td>\n",
       "      <td>0.0</td>\n",
       "      <td>0.0</td>\n",
       "      <td>0.0</td>\n",
       "      <td>0.0</td>\n",
       "      <td>1.0</td>\n",
       "      <td>0.0</td>\n",
       "      <td>0.0</td>\n",
       "      <td>0.0</td>\n",
       "      <td>...</td>\n",
       "      <td>0.000000</td>\n",
       "      <td>0.000000</td>\n",
       "      <td>0.000000</td>\n",
       "      <td>0.000000</td>\n",
       "      <td>0.2</td>\n",
       "      <td>0.5</td>\n",
       "      <td>0.35</td>\n",
       "      <td>0.166667</td>\n",
       "      <td>0.0</td>\n",
       "      <td>0.0</td>\n",
       "    </tr>\n",
       "    <tr>\n",
       "      <th>3</th>\n",
       "      <td>0.0</td>\n",
       "      <td>0.0</td>\n",
       "      <td>0.0</td>\n",
       "      <td>0.0</td>\n",
       "      <td>0.0</td>\n",
       "      <td>0.0</td>\n",
       "      <td>0.0</td>\n",
       "      <td>0.0</td>\n",
       "      <td>0.0</td>\n",
       "      <td>1.0</td>\n",
       "      <td>...</td>\n",
       "      <td>0.000000</td>\n",
       "      <td>0.000000</td>\n",
       "      <td>0.000000</td>\n",
       "      <td>0.000000</td>\n",
       "      <td>0.7</td>\n",
       "      <td>0.7</td>\n",
       "      <td>0.70</td>\n",
       "      <td>0.083333</td>\n",
       "      <td>0.0</td>\n",
       "      <td>0.0</td>\n",
       "    </tr>\n",
       "    <tr>\n",
       "      <th>4</th>\n",
       "      <td>0.0</td>\n",
       "      <td>0.0</td>\n",
       "      <td>0.0</td>\n",
       "      <td>1.0</td>\n",
       "      <td>0.0</td>\n",
       "      <td>0.0</td>\n",
       "      <td>0.0</td>\n",
       "      <td>0.0</td>\n",
       "      <td>0.0</td>\n",
       "      <td>0.0</td>\n",
       "      <td>...</td>\n",
       "      <td>0.142857</td>\n",
       "      <td>0.142857</td>\n",
       "      <td>0.142857</td>\n",
       "      <td>0.166667</td>\n",
       "      <td>0.0</td>\n",
       "      <td>0.0</td>\n",
       "      <td>0.00</td>\n",
       "      <td>0.000000</td>\n",
       "      <td>0.0</td>\n",
       "      <td>0.0</td>\n",
       "    </tr>\n",
       "  </tbody>\n",
       "</table>\n",
       "<p>5 rows × 232 columns</p>\n",
       "</div>"
      ],
      "text/plain": [
       "   age_05  age_15  age_25  age_35  age_45  age_55  age_65  age_75  age_85  \\\n",
       "0     0.0     0.0     0.0     0.0     0.0     0.0     1.0     0.0     0.0   \n",
       "1     0.0     0.0     0.0     0.0     0.0     1.0     0.0     0.0     0.0   \n",
       "2     0.0     0.0     0.0     0.0     0.0     0.0     1.0     0.0     0.0   \n",
       "3     0.0     0.0     0.0     0.0     0.0     0.0     0.0     0.0     0.0   \n",
       "4     0.0     0.0     0.0     1.0     0.0     0.0     0.0     0.0     0.0   \n",
       "\n",
       "   age_MISS    ...     DrugCountMin  DrugCountMax  DrugCountMean  DrugCount  \\\n",
       "0       0.0    ...         0.142857      0.285714       0.250000   1.000000   \n",
       "1       0.0    ...         0.285714      0.714286       0.500000   0.166667   \n",
       "2       0.0    ...         0.000000      0.000000       0.000000   0.000000   \n",
       "3       1.0    ...         0.000000      0.000000       0.000000   0.000000   \n",
       "4       0.0    ...         0.142857      0.142857       0.142857   0.166667   \n",
       "\n",
       "   labCount_min  labCount_max  labCount_ave  labcount_months  labNull  \\\n",
       "0           0.0           0.0          0.00         0.000000      0.0   \n",
       "1           0.2           0.2          0.20         0.083333      0.0   \n",
       "2           0.2           0.5          0.35         0.166667      0.0   \n",
       "3           0.7           0.7          0.70         0.083333      0.0   \n",
       "4           0.0           0.0          0.00         0.000000      0.0   \n",
       "\n",
       "   drugNull  \n",
       "0       0.0  \n",
       "1       0.0  \n",
       "2       0.0  \n",
       "3       0.0  \n",
       "4       0.0  \n",
       "\n",
       "[5 rows x 232 columns]"
      ]
     },
     "execution_count": 11,
     "metadata": {},
     "output_type": "execute_result"
    }
   ],
   "source": [
    "from sklearn.preprocessing import MinMaxScaler\n",
    "sc = MinMaxScaler()\n",
    "\n",
    "col_name=train.columns\n",
    "\n",
    "year_2_data_scaled = sc.fit_transform(year_2_data)\n",
    "\n",
    "X_train_scaled = sc.fit_transform(train)\n",
    "X_test_scaled = sc.fit_transform(test)\n",
    "X_validation_scaled = sc.fit_transform(validation)\n",
    "\n",
    "year_2_data_scaled=pd.DataFrame(year_2_data_scaled , columns = col_name)\n",
    "\n",
    "X_train_scaled=pd.DataFrame(X_train_scaled , columns = col_name)\n",
    "X_test_scaled=pd.DataFrame(X_test_scaled , columns = col_name)\n",
    "X_validation_scaled=pd.DataFrame(X_validation_scaled , columns = col_name)\n",
    "\n",
    "X_train_scaled.head()"
   ]
  },
  {
   "cell_type": "markdown",
   "metadata": {},
   "source": [
    "### Convert output by logscale\n"
   ]
  },
  {
   "cell_type": "code",
   "execution_count": 12,
   "metadata": {},
   "outputs": [],
   "source": [
    "logYtrain=np.log(Ytrain+1)\n",
    "logYtest=np.log(Ytest+1)\n",
    "logYvalidation=np.log(Yvalidation+1)"
   ]
  },
  {
   "cell_type": "markdown",
   "metadata": {},
   "source": [
    "## Training"
   ]
  },
  {
   "cell_type": "markdown",
   "metadata": {},
   "source": [
    "### Predict "
   ]
  },
  {
   "cell_type": "code",
   "execution_count": 15,
   "metadata": {},
   "outputs": [],
   "source": [
    "rf_regr = RandomForestRegressor(n_estimators=100)"
   ]
  },
  {
   "cell_type": "code",
   "execution_count": 16,
   "metadata": {},
   "outputs": [
    {
     "data": {
      "text/plain": [
       "RandomForestRegressor(bootstrap=True, criterion='mse', max_depth=None,\n",
       "           max_features='auto', max_leaf_nodes=None,\n",
       "           min_impurity_decrease=0.0, min_impurity_split=None,\n",
       "           min_samples_leaf=1, min_samples_split=2,\n",
       "           min_weight_fraction_leaf=0.0, n_estimators=100, n_jobs=None,\n",
       "           oob_score=False, random_state=None, verbose=0, warm_start=False)"
      ]
     },
     "execution_count": 16,
     "metadata": {},
     "output_type": "execute_result"
    }
   ],
   "source": [
    "rf_regr.fit(X_train_scaled, logYtrain)"
   ]
  },
  {
   "cell_type": "markdown",
   "metadata": {},
   "source": [
    "### Evaluate"
   ]
  },
  {
   "cell_type": "code",
   "execution_count": 17,
   "metadata": {},
   "outputs": [
    {
     "name": "stdout",
     "output_type": "stream",
     "text": [
      "error on training set:  0.17628191382166689 error on validation set:  0.4791333608928005 error on testing set:  0.46059365389758494\n"
     ]
    }
   ],
   "source": [
    "logY_pred_test = rf_regr .predict(X_test_scaled)\n",
    "logY_pred_train = rf_regr .predict(X_train_scaled)\n",
    "logY_pred_validation = rf_regr .predict(X_validation_scaled)\n",
    "\n",
    "#truncated output\n",
    "logY_pred_test[logY_pred_test < 0]=0\n",
    "logY_pred_train[logY_pred_train < 0]=0\n",
    "logY_pred_validation[logY_pred_validation < 0]=0\n",
    "\n",
    "print('error on training set: ', rmse(logYtrain, logY_pred_train),\n",
    "     'error on validation set: ', rmse(logYvalidation, logY_pred_validation),\n",
    "  #   )#,\n",
    "      'error on testing set: ', rmse(logYtest, logY_pred_test)\n",
    "    )"
   ]
  },
  {
   "cell_type": "code",
   "execution_count": 18,
   "metadata": {},
   "outputs": [
    {
     "data": {
      "image/png": "[encoded data removed]",
      "text/plain": [
       "<Figure size 432x288 with 1 Axes>"
      ]
     },
     "metadata": {
      "needs_background": "light"
     },
     "output_type": "display_data"
    }
   ],
   "source": [
    "num_bins=16\n",
    "n, bins, patches = plt.hist(np.exp(logY_pred_validation), num_bins, facecolor='blue', alpha=0.5)\n",
    "plt.show()"
   ]
  },
  {
   "cell_type": "markdown",
   "metadata": {},
   "source": [
    "### Feature selection"
   ]
  },
  {
   "cell_type": "code",
   "execution_count": 19,
   "metadata": {},
   "outputs": [
    {
     "data": {
      "image/png": "[encoded data removed]",
      "text/plain": [
       "<Figure size 864x576 with 1 Axes>"
      ]
     },
     "metadata": {
      "needs_background": "light"
     },
     "output_type": "display_data"
    }
   ],
   "source": [
    "# Plot the top 40 important features\n",
    "imp_feat_rf = pd.Series(rf_regr.feature_importances_, index=X_train_scaled.columns).sort_values(ascending=False)\n",
    "imp_feat_rf[:40].plot(kind='bar', title='Feature Importance with Random Forest', figsize=(12,8))\n",
    "plt.ylabel('Feature Importance values')\n",
    "plt.subplots_adjust(bottom=0.25)\n",
    "plt.savefig('FeatImportance.png')\n",
    "plt.show()"
   ]
  },
  {
   "cell_type": "markdown",
   "metadata": {},
   "source": [
    "#### Remove featurs with 0 importance value"
   ]
  },
  {
   "cell_type": "code",
   "execution_count": 20,
   "metadata": {},
   "outputs": [],
   "source": [
    "#remove all features with 0 important value\n",
    "list1=list()\n",
    "for indx, val in imp_feat_rf.iteritems():\n",
    "  #print(indx,val)\n",
    "  if val==0:\n",
    "    list1.append(indx)\n",
    "#pd.DataFrame(list1).to_csv(\"Data/RmvSet1_XGBregr.csv\", encoding='utf-8')"
   ]
  },
  {
   "cell_type": "code",
   "execution_count": 21,
   "metadata": {},
   "outputs": [],
   "source": [
    "X_train_scaled.drop(list1,axis=1, inplace=True)\n",
    "X_validation_scaled.drop(list1,axis=1, inplace=True)\n",
    "X_test_scaled.drop(list1,axis=1, inplace=True)\n",
    "year_2_data_scaled.drop(list1,axis=1, inplace=True)"
   ]
  },
  {
   "cell_type": "code",
   "execution_count": 22,
   "metadata": {},
   "outputs": [
    {
     "data": {
      "text/plain": [
       "RandomForestRegressor(bootstrap=True, criterion='mse', max_depth=None,\n",
       "           max_features='auto', max_leaf_nodes=None,\n",
       "           min_impurity_decrease=0.0, min_impurity_split=None,\n",
       "           min_samples_leaf=1, min_samples_split=2,\n",
       "           min_weight_fraction_leaf=0.0, n_estimators=100, n_jobs=None,\n",
       "           oob_score=False, random_state=None, verbose=0, warm_start=False)"
      ]
     },
     "execution_count": 22,
     "metadata": {},
     "output_type": "execute_result"
    }
   ],
   "source": [
    "rf_regr.fit(X_train_scaled,logYtrain)"
   ]
  },
  {
   "cell_type": "code",
   "execution_count": 23,
   "metadata": {},
   "outputs": [
    {
     "name": "stdout",
     "output_type": "stream",
     "text": [
      "RSME on traing set 0.17629644574590594 RSME on validation set 0.47889960856700203 RSME on testing set 0.4601947656779032\n"
     ]
    }
   ],
   "source": [
    "logY_pred_test = rf_regr .predict(X_test_scaled)\n",
    "logY_pred_train = rf_regr .predict(X_train_scaled)\n",
    "logY_pred_validation = rf_regr .predict(X_validation_scaled)\n",
    "\n",
    "Y_pred_train=np.exp(logY_pred_train)-1\n",
    "Y_pred_test=np.exp(logY_pred_test)-1\n",
    "Y_pred_validation=np.exp(logY_pred_validation)-1\n",
    "\n",
    "print('RSME on traing set',rmse(logYtrain, logY_pred_train),\n",
    "        'RSME on validation set',rmse(logYvalidation, logY_pred_validation),\n",
    "        'RSME on testing set',rmse(logYtest, logY_pred_test),\n",
    "     )"
   ]
  },
  {
   "cell_type": "code",
   "execution_count": 24,
   "metadata": {},
   "outputs": [
    {
     "data": {
      "image/png": "[encoded data removed]",
      "text/plain": [
       "<Figure size 864x576 with 1 Axes>"
      ]
     },
     "metadata": {
      "needs_background": "light"
     },
     "output_type": "display_data"
    }
   ],
   "source": [
    "# Plot the top 40 important features\n",
    "imp_feat_rf = pd.Series(rf_regr.feature_importances_, index=X_train_scaled.columns).sort_values(ascending=False)\n",
    "imp_feat_rf[:40].plot(kind='bar', title='Feature Importance with Random Forest', figsize=(12,8))\n",
    "plt.ylabel('Feature Importance values')\n",
    "plt.subplots_adjust(bottom=0.25)\n",
    "plt.savefig('FeatImportance.png')\n",
    "plt.show()"
   ]
  },
  {
   "cell_type": "code",
   "execution_count": 25,
   "metadata": {},
   "outputs": [
    {
     "data": {
      "image/png": "[encoded data removed]",
      "text/plain": [
       "<Figure size 432x288 with 1 Axes>"
      ]
     },
     "metadata": {
      "needs_background": "light"
     },
     "output_type": "display_data"
    }
   ],
   "source": [
    "num_bins=16\n",
    "n, bins, patches = plt.hist(Y_pred_validation, num_bins, facecolor='blue', alpha=0.5)\n",
    "plt.show()"
   ]
  },
  {
   "cell_type": "markdown",
   "metadata": {},
   "source": [
    "#### Remove features with high correlation with no_Claims"
   ]
  },
  {
   "cell_type": "code",
   "execution_count": 26,
   "metadata": {},
   "outputs": [
    {
     "data": {
      "text/plain": [
       "['no_Providers',\n",
       " 'no_Vendors',\n",
       " 'no_PCPs',\n",
       " 'no_PlaceSvcs',\n",
       " 'no_Specialities',\n",
       " 'no_PrimaryConditionGroups',\n",
       " 'no_ProcedureGroups']"
      ]
     },
     "execution_count": 26,
     "metadata": {},
     "output_type": "execute_result"
    }
   ],
   "source": [
    "list0=['no_Providers', 'no_Vendors', 'no_PCPs', 'no_PlaceSvcs','no_Claims',\n",
    "       'no_Specialities', 'no_PrimaryConditionGroups', 'no_ProcedureGroups']\n",
    "\n",
    "del list0[4]\n",
    "list0"
   ]
  },
  {
   "cell_type": "code",
   "execution_count": 27,
   "metadata": {},
   "outputs": [],
   "source": [
    "X_train_scaled.drop(list0,axis=1, inplace=True)\n",
    "X_validation_scaled.drop(list0,axis=1, inplace=True)\n",
    "X_test_scaled.drop(list0,axis=1, inplace=True)\n",
    "year_2_data_scaled.drop(list0,axis=1, inplace=True)"
   ]
  },
  {
   "cell_type": "code",
   "execution_count": 28,
   "metadata": {},
   "outputs": [
    {
     "data": {
      "text/plain": [
       "RandomForestRegressor(bootstrap=True, criterion='mse', max_depth=None,\n",
       "           max_features='auto', max_leaf_nodes=None,\n",
       "           min_impurity_decrease=0.0, min_impurity_split=None,\n",
       "           min_samples_leaf=1, min_samples_split=2,\n",
       "           min_weight_fraction_leaf=0.0, n_estimators=100, n_jobs=None,\n",
       "           oob_score=False, random_state=None, verbose=0, warm_start=False)"
      ]
     },
     "execution_count": 28,
     "metadata": {},
     "output_type": "execute_result"
    }
   ],
   "source": [
    "rf_regr.fit(X_train_scaled,logYtrain)"
   ]
  },
  {
   "cell_type": "code",
   "execution_count": 29,
   "metadata": {},
   "outputs": [
    {
     "name": "stdout",
     "output_type": "stream",
     "text": [
      "RSME on traing set 0.1761178941487382 RSME on validation set 0.47883385934862793 RSME on testing set 0.46118889290185733\n"
     ]
    }
   ],
   "source": [
    "logY_pred_test = rf_regr .predict(X_test_scaled)\n",
    "logY_pred_train = rf_regr .predict(X_train_scaled)\n",
    "logY_pred_validation = rf_regr .predict(X_validation_scaled)\n",
    "\n",
    "Y_pred_train=np.exp(logY_pred_train)-1\n",
    "Y_pred_test=np.exp(logY_pred_test)-1\n",
    "Y_pred_validation=np.exp(logY_pred_validation)-1\n",
    "\n",
    "\n",
    "print('RSME on traing set',rmse(logYtrain, logY_pred_train),\n",
    "        'RSME on validation set',rmse(logYvalidation, logY_pred_validation),\n",
    "        'RSME on testing set',rmse(logYtest, logY_pred_test),\n",
    "     )"
   ]
  },
  {
   "cell_type": "code",
   "execution_count": 30,
   "metadata": {},
   "outputs": [
    {
     "data": {
      "image/png": "[encoded data removed]",
      "text/plain": [
       "<Figure size 864x576 with 1 Axes>"
      ]
     },
     "metadata": {
      "needs_background": "light"
     },
     "output_type": "display_data"
    }
   ],
   "source": [
    "# Plot the top 40 important features\n",
    "imp_feat_rf = pd.Series(rf_regr.feature_importances_, index=X_train_scaled.columns).sort_values(ascending=False)\n",
    "imp_feat_rf[:40].plot(kind='bar', title='Feature Importance with Random Forest', figsize=(12,8))\n",
    "plt.ylabel('Feature Importance values')\n",
    "plt.subplots_adjust(bottom=0.25)\n",
    "plt.savefig('FeatImportance.png')\n",
    "plt.show()"
   ]
  },
  {
   "cell_type": "code",
   "execution_count": 31,
   "metadata": {},
   "outputs": [
    {
     "data": {
      "image/png": "[encoded data removed]",
      "text/plain": [
       "<Figure size 432x288 with 1 Axes>"
      ]
     },
     "metadata": {
      "needs_background": "light"
     },
     "output_type": "display_data"
    }
   ],
   "source": [
    "num_bins=16\n",
    "n, bins, patches = plt.hist(Y_pred_validation, num_bins, facecolor='blue', alpha=0.5)\n",
    "plt.show()"
   ]
  },
  {
   "cell_type": "markdown",
   "metadata": {},
   "source": [
    "## Export prediction"
   ]
  },
  {
   "cell_type": "code",
   "execution_count": 32,
   "metadata": {},
   "outputs": [],
   "source": [
    "logY2_pred=rf_regr.predict(year_2_data_scaled)\n",
    "logY2_pred[logY2_pred < 0]=0\n",
    "Y2_pred=np.exp(logY2_pred)-1\n",
    "Y2_pred=np.exp(logY2_pred)-1\n",
    "Y3_pred=np.exp(logY_pred_test)-1\n",
    "\n",
    "Y2_pred= pd.DataFrame(Y2_pred, columns=['Y_pred_RFregr_scaled'])\n",
    "Y3_pred= pd.DataFrame(Y3_pred, columns=['Y_pred_RFregr_scaled'])\n",
    "#Y_pred_validation= pd.DataFrame(Y_pred_validation, columns=['Y_pred_LGBM'])\n",
    "\n",
    "pd.DataFrame(Y2_pred).to_csv(\"Data/Y2_pred_RFregr_scaled.csv\", encoding='utf-8')\n",
    "#pd.DataFrame(Y_pred_validation).to_csv(\"Data/Y_pred_validation_LGBM.csv\", encoding='utf-8')\n",
    "pd.DataFrame(Y3_pred).to_csv(\"Data/Y3_pred_RFregr_scaled.csv\", encoding='utf-8')"
   ]
  }
 ],
 "metadata": {
  "kernelspec": {
   "display_name": "Python 3",
   "language": "python",
   "name": "python3"
  },
  "language_info": {
   "codemirror_mode": {
    "name": "ipython",
    "version": 3
   },
   "file_extension": ".py",
   "mimetype": "text/x-python",
   "name": "python",
   "nbconvert_exporter": "python",
   "pygments_lexer": "ipython3",
   "version": "3.7.1"
  }
 },
 "nbformat": 4,
 "nbformat_minor": 2
}
