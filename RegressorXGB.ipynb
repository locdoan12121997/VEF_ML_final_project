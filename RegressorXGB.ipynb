{
 "cells": [
  {
   "cell_type": "code",
   "execution_count": 33,
   "metadata": {},
   "outputs": [],
   "source": [
    "import numpy as np\n",
    "import pandas as pd\n",
    "import matplotlib.pyplot as plt\n",
    "from sklearn.metrics import mean_squared_error\n",
    "from math import sqrt\n",
    "from sklearn.model_selection import train_test_split\n",
    "from xgboost import XGBRegressor"
   ]
  },
  {
   "cell_type": "code",
   "execution_count": 34,
   "metadata": {},
   "outputs": [],
   "source": [
    "def rmse(y_act,y_pred):\n",
    "    rms=sqrt(mean_squared_error(y_act,y_pred))\n",
    "    return rms"
   ]
  },
  {
   "cell_type": "code",
   "execution_count": 35,
   "metadata": {},
   "outputs": [],
   "source": [
    "train = pd.read_csv('Data/train_data_hhp.csv')\n",
    "test = pd.read_csv('Data/test_data_hhp.csv')\n",
    "\n",
    "train,validation=train_test_split(train,test_size=0.3,random_state=0)\n",
    "\n",
    "year_2_data = pd.read_csv('Data/train_data_hhp.csv')\n",
    "year_2_data.drop(['DaysInHospital','Year','ClaimsTruncated','MemberID'],axis=1, inplace=True)\n",
    "\n",
    "Ytrain=train['DaysInHospital']\n",
    "Ytest=test['DaysInHospital']#, axis=1, inplace=True)\n",
    "Yvalidation=validation['DaysInHospital']\n",
    "\n",
    "\n",
    "train.drop(['DaysInHospital','Year','ClaimsTruncated','MemberID'],axis=1, inplace=True)\n",
    "test.drop(['DaysInHospital','Year','ClaimsTruncated','MemberID'],axis=1, inplace=True)\n",
    "validation.drop(['DaysInHospital','Year','ClaimsTruncated','MemberID'],axis=1, inplace=True)"
   ]
  },
  {
   "cell_type": "code",
   "execution_count": 36,
   "metadata": {},
   "outputs": [
    {
     "data": {
      "text/plain": [
       "<matplotlib.axes._subplots.AxesSubplot at 0x1a383ada90>"
      ]
     },
     "execution_count": 36,
     "metadata": {},
     "output_type": "execute_result"
    },
    {
     "data": {
      "image/png": "[encoded data removed]",
      "text/plain": [
       "<Figure size 432x288 with 1 Axes>"
      ]
     },
     "metadata": {
      "needs_background": "light"
     },
     "output_type": "display_data"
    }
   ],
   "source": [
    "import seaborn as sns\n",
    "sns.countplot(Ytrain)"
   ]
  },
  {
   "cell_type": "markdown",
   "metadata": {},
   "source": [
    "### Scale input"
   ]
  },
  {
   "cell_type": "code",
   "execution_count": 37,
   "metadata": {},
   "outputs": [
    {
     "name": "stderr",
     "output_type": "stream",
     "text": [
      "/anaconda3/lib/python3.7/site-packages/sklearn/preprocessing/data.py:323: DataConversionWarning: Data with input dtype bool, int64, float64 were all converted to float64 by MinMaxScaler.\n",
      "  return self.partial_fit(X, y)\n",
      "/anaconda3/lib/python3.7/site-packages/sklearn/preprocessing/data.py:323: DataConversionWarning: Data with input dtype bool, int64, float64 were all converted to float64 by MinMaxScaler.\n",
      "  return self.partial_fit(X, y)\n",
      "/anaconda3/lib/python3.7/site-packages/sklearn/preprocessing/data.py:323: DataConversionWarning: Data with input dtype bool, int64, float64 were all converted to float64 by MinMaxScaler.\n",
      "  return self.partial_fit(X, y)\n",
      "/anaconda3/lib/python3.7/site-packages/sklearn/preprocessing/data.py:323: DataConversionWarning: Data with input dtype bool, int64, float64 were all converted to float64 by MinMaxScaler.\n",
      "  return self.partial_fit(X, y)\n"
     ]
    },
    {
     "data": {
      "text/html": [
       "<div>\n",
       "<style scoped>\n",
       "    .dataframe tbody tr th:only-of-type {\n",
       "        vertical-align: middle;\n",
       "    }\n",
       "\n",
       "    .dataframe tbody tr th {\n",
       "        vertical-align: top;\n",
       "    }\n",
       "\n",
       "    .dataframe thead th {\n",
       "        text-align: right;\n",
       "    }\n",
       "</style>\n",
       "<table border=\"1\" class=\"dataframe\">\n",
       "  <thead>\n",
       "    <tr style=\"text-align: right;\">\n",
       "      <th></th>\n",
       "      <th>age_05</th>\n",
       "      <th>age_15</th>\n",
       "      <th>age_25</th>\n",
       "      <th>age_35</th>\n",
       "      <th>age_45</th>\n",
       "      <th>age_55</th>\n",
       "      <th>age_65</th>\n",
       "      <th>age_75</th>\n",
       "      <th>age_85</th>\n",
       "      <th>age_MISS</th>\n",
       "      <th>...</th>\n",
       "      <th>DrugCountMin</th>\n",
       "      <th>DrugCountMax</th>\n",
       "      <th>DrugCountMean</th>\n",
       "      <th>DrugCount</th>\n",
       "      <th>labCount_min</th>\n",
       "      <th>labCount_max</th>\n",
       "      <th>labCount_ave</th>\n",
       "      <th>labcount_months</th>\n",
       "      <th>labNull</th>\n",
       "      <th>drugNull</th>\n",
       "    </tr>\n",
       "  </thead>\n",
       "  <tbody>\n",
       "    <tr>\n",
       "      <th>0</th>\n",
       "      <td>0.0</td>\n",
       "      <td>0.0</td>\n",
       "      <td>0.0</td>\n",
       "      <td>0.0</td>\n",
       "      <td>0.0</td>\n",
       "      <td>0.0</td>\n",
       "      <td>1.0</td>\n",
       "      <td>0.0</td>\n",
       "      <td>0.0</td>\n",
       "      <td>0.0</td>\n",
       "      <td>...</td>\n",
       "      <td>0.142857</td>\n",
       "      <td>0.285714</td>\n",
       "      <td>0.250000</td>\n",
       "      <td>1.000000</td>\n",
       "      <td>0.0</td>\n",
       "      <td>0.0</td>\n",
       "      <td>0.00</td>\n",
       "      <td>0.000000</td>\n",
       "      <td>0.0</td>\n",
       "      <td>0.0</td>\n",
       "    </tr>\n",
       "    <tr>\n",
       "      <th>1</th>\n",
       "      <td>0.0</td>\n",
       "      <td>0.0</td>\n",
       "      <td>0.0</td>\n",
       "      <td>0.0</td>\n",
       "      <td>0.0</td>\n",
       "      <td>1.0</td>\n",
       "      <td>0.0</td>\n",
       "      <td>0.0</td>\n",
       "      <td>0.0</td>\n",
       "      <td>0.0</td>\n",
       "      <td>...</td>\n",
       "      <td>0.285714</td>\n",
       "      <td>0.714286</td>\n",
       "      <td>0.500000</td>\n",
       "      <td>0.166667</td>\n",
       "      <td>0.2</td>\n",
       "      <td>0.2</td>\n",
       "      <td>0.20</td>\n",
       "      <td>0.083333</td>\n",
       "      <td>0.0</td>\n",
       "      <td>0.0</td>\n",
       "    </tr>\n",
       "    <tr>\n",
       "      <th>2</th>\n",
       "      <td>0.0</td>\n",
       "      <td>0.0</td>\n",
       "      <td>0.0</td>\n",
       "      <td>0.0</td>\n",
       "      <td>0.0</td>\n",
       "      <td>0.0</td>\n",
       "      <td>1.0</td>\n",
       "      <td>0.0</td>\n",
       "      <td>0.0</td>\n",
       "      <td>0.0</td>\n",
       "      <td>...</td>\n",
       "      <td>0.000000</td>\n",
       "      <td>0.000000</td>\n",
       "      <td>0.000000</td>\n",
       "      <td>0.000000</td>\n",
       "      <td>0.2</td>\n",
       "      <td>0.5</td>\n",
       "      <td>0.35</td>\n",
       "      <td>0.166667</td>\n",
       "      <td>0.0</td>\n",
       "      <td>0.0</td>\n",
       "    </tr>\n",
       "    <tr>\n",
       "      <th>3</th>\n",
       "      <td>0.0</td>\n",
       "      <td>0.0</td>\n",
       "      <td>0.0</td>\n",
       "      <td>0.0</td>\n",
       "      <td>0.0</td>\n",
       "      <td>0.0</td>\n",
       "      <td>0.0</td>\n",
       "      <td>0.0</td>\n",
       "      <td>0.0</td>\n",
       "      <td>1.0</td>\n",
       "      <td>...</td>\n",
       "      <td>0.000000</td>\n",
       "      <td>0.000000</td>\n",
       "      <td>0.000000</td>\n",
       "      <td>0.000000</td>\n",
       "      <td>0.7</td>\n",
       "      <td>0.7</td>\n",
       "      <td>0.70</td>\n",
       "      <td>0.083333</td>\n",
       "      <td>0.0</td>\n",
       "      <td>0.0</td>\n",
       "    </tr>\n",
       "    <tr>\n",
       "      <th>4</th>\n",
       "      <td>0.0</td>\n",
       "      <td>0.0</td>\n",
       "      <td>0.0</td>\n",
       "      <td>1.0</td>\n",
       "      <td>0.0</td>\n",
       "      <td>0.0</td>\n",
       "      <td>0.0</td>\n",
       "      <td>0.0</td>\n",
       "      <td>0.0</td>\n",
       "      <td>0.0</td>\n",
       "      <td>...</td>\n",
       "      <td>0.142857</td>\n",
       "      <td>0.142857</td>\n",
       "      <td>0.142857</td>\n",
       "      <td>0.166667</td>\n",
       "      <td>0.0</td>\n",
       "      <td>0.0</td>\n",
       "      <td>0.00</td>\n",
       "      <td>0.000000</td>\n",
       "      <td>0.0</td>\n",
       "      <td>0.0</td>\n",
       "    </tr>\n",
       "  </tbody>\n",
       "</table>\n",
       "<p>5 rows × 232 columns</p>\n",
       "</div>"
      ],
      "text/plain": [
       "   age_05  age_15  age_25  age_35  age_45  age_55  age_65  age_75  age_85  \\\n",
       "0     0.0     0.0     0.0     0.0     0.0     0.0     1.0     0.0     0.0   \n",
       "1     0.0     0.0     0.0     0.0     0.0     1.0     0.0     0.0     0.0   \n",
       "2     0.0     0.0     0.0     0.0     0.0     0.0     1.0     0.0     0.0   \n",
       "3     0.0     0.0     0.0     0.0     0.0     0.0     0.0     0.0     0.0   \n",
       "4     0.0     0.0     0.0     1.0     0.0     0.0     0.0     0.0     0.0   \n",
       "\n",
       "   age_MISS    ...     DrugCountMin  DrugCountMax  DrugCountMean  DrugCount  \\\n",
       "0       0.0    ...         0.142857      0.285714       0.250000   1.000000   \n",
       "1       0.0    ...         0.285714      0.714286       0.500000   0.166667   \n",
       "2       0.0    ...         0.000000      0.000000       0.000000   0.000000   \n",
       "3       1.0    ...         0.000000      0.000000       0.000000   0.000000   \n",
       "4       0.0    ...         0.142857      0.142857       0.142857   0.166667   \n",
       "\n",
       "   labCount_min  labCount_max  labCount_ave  labcount_months  labNull  \\\n",
       "0           0.0           0.0          0.00         0.000000      0.0   \n",
       "1           0.2           0.2          0.20         0.083333      0.0   \n",
       "2           0.2           0.5          0.35         0.166667      0.0   \n",
       "3           0.7           0.7          0.70         0.083333      0.0   \n",
       "4           0.0           0.0          0.00         0.000000      0.0   \n",
       "\n",
       "   drugNull  \n",
       "0       0.0  \n",
       "1       0.0  \n",
       "2       0.0  \n",
       "3       0.0  \n",
       "4       0.0  \n",
       "\n",
       "[5 rows x 232 columns]"
      ]
     },
     "execution_count": 37,
     "metadata": {},
     "output_type": "execute_result"
    }
   ],
   "source": [
    "from sklearn.preprocessing import MinMaxScaler\n",
    "sc = MinMaxScaler()\n",
    "\n",
    "col_name=train.columns\n",
    "\n",
    "year_2_data_scaled = sc.fit_transform(year_2_data)\n",
    "\n",
    "X_train_scaled = sc.fit_transform(train)\n",
    "X_test_scaled = sc.fit_transform(test)\n",
    "X_validation_scaled = sc.fit_transform(validation)\n",
    "\n",
    "year_2_data_scaled = pd.DataFrame(year_2_data_scaled , columns = col_name)\n",
    "\n",
    "X_train_scaled = pd.DataFrame(X_train_scaled, columns = col_name)\n",
    "X_test_scaled = pd.DataFrame(X_test_scaled, columns = col_name)\n",
    "X_validation_scaled = pd.DataFrame(X_validation_scaled, columns = col_name)\n",
    "\n",
    "X_train_scaled.head()"
   ]
  },
  {
   "cell_type": "markdown",
   "metadata": {},
   "source": [
    "### Convert output by log scale\n"
   ]
  },
  {
   "cell_type": "code",
   "execution_count": 38,
   "metadata": {},
   "outputs": [],
   "source": [
    "logYtrain=np.log(Ytrain+1)\n",
    "logYtest=np.log(Ytest+1)\n",
    "logYvalidation=np.log(Yvalidation+1)"
   ]
  },
  {
   "cell_type": "code",
   "execution_count": 39,
   "metadata": {},
   "outputs": [],
   "source": [
    "XGregr = XGBRegressor()"
   ]
  },
  {
   "cell_type": "code",
   "execution_count": 40,
   "metadata": {},
   "outputs": [
    {
     "data": {
      "text/plain": [
       "XGBRegressor(base_score=0.5, booster='gbtree', colsample_bylevel=1,\n",
       "       colsample_bytree=1, gamma=0, learning_rate=0.1, max_delta_step=0,\n",
       "       max_depth=3, min_child_weight=1, missing=None, n_estimators=100,\n",
       "       n_jobs=1, nthread=None, objective='reg:linear', random_state=0,\n",
       "       reg_alpha=0, reg_lambda=1, scale_pos_weight=1, seed=None,\n",
       "       silent=True, subsample=1)"
      ]
     },
     "execution_count": 40,
     "metadata": {},
     "output_type": "execute_result"
    }
   ],
   "source": [
    "XGregr.fit(X_train_scaled, logYtrain)"
   ]
  },
  {
   "cell_type": "code",
   "execution_count": 41,
   "metadata": {},
   "outputs": [
    {
     "name": "stdout",
     "output_type": "stream",
     "text": [
      "error on training set:  0.45011941164603225 error on validation set:  0.46422230753689536 error on testing set:  0.44895895314663226\n"
     ]
    }
   ],
   "source": [
    "logY_pred_test = XGregr .predict(X_test_scaled)\n",
    "logY_pred_train = XGregr .predict(X_train_scaled)\n",
    "logY_pred_validation = XGregr .predict(X_validation_scaled)\n",
    "\n",
    "#truncated output\n",
    "logY_pred_test[logY_pred_test < 0]=0\n",
    "logY_pred_train[logY_pred_train < 0]=0\n",
    "logY_pred_validation[logY_pred_validation < 0]=0\n",
    "\n",
    "print('error on training set: ', rmse(logYtrain, logY_pred_train),\n",
    "     'error on validation set: ', rmse(logYvalidation, logY_pred_validation),\n",
    "      'error on testing set: ', rmse(logYtest, logY_pred_test)\n",
    "    )"
   ]
  },
  {
   "cell_type": "markdown",
   "metadata": {},
   "source": [
    "## Feature selection"
   ]
  },
  {
   "cell_type": "code",
   "execution_count": 42,
   "metadata": {},
   "outputs": [
    {
     "data": {
      "image/png": "[encoded data removed]",
      "text/plain": [
       "<Figure size 432x288 with 1 Axes>"
      ]
     },
     "metadata": {
      "needs_background": "light"
     },
     "output_type": "display_data"
    }
   ],
   "source": [
    "num_bins=16\n",
    "n, bins, patches = plt.hist(np.exp(logY_pred_train), num_bins, facecolor='blue', alpha=0.5)\n",
    "plt.show()"
   ]
  },
  {
   "cell_type": "code",
   "execution_count": 43,
   "metadata": {},
   "outputs": [
    {
     "data": {
      "image/png": "[encoded data removed]",
      "text/plain": [
       "<Figure size 864x576 with 1 Axes>"
      ]
     },
     "metadata": {
      "needs_background": "light"
     },
     "output_type": "display_data"
    }
   ],
   "source": [
    "# Plot the top 40 important features\n",
    "imp_feat_rf = pd.Series(XGregr.feature_importances_, index=X_train_scaled.columns).sort_values(ascending=False)\n",
    "imp_feat_rf[:40].plot(kind='bar', title='Feature Importance with Random Forest', figsize=(12,8))\n",
    "plt.ylabel('Feature Importance values')\n",
    "plt.subplots_adjust(bottom=0.25)\n",
    "plt.savefig('FeatImportance.png')\n",
    "plt.show()"
   ]
  },
  {
   "cell_type": "markdown",
   "metadata": {},
   "source": [
    "### Remove features with high correlation with no_Claims"
   ]
  },
  {
   "cell_type": "code",
   "execution_count": 44,
   "metadata": {},
   "outputs": [
    {
     "data": {
      "text/plain": [
       "['no_Providers',\n",
       " 'no_Vendors',\n",
       " 'no_PlaceSvcs',\n",
       " 'no_Claims',\n",
       " 'no_Specialities',\n",
       " 'no_PrimaryConditionGroups',\n",
       " 'no_ProcedureGroups']"
      ]
     },
     "execution_count": 44,
     "metadata": {},
     "output_type": "execute_result"
    }
   ],
   "source": [
    "list0=['no_Providers', 'no_Vendors', 'no_PCPs', 'no_PlaceSvcs','no_Claims',\n",
    "       'no_Specialities', 'no_PrimaryConditionGroups', 'no_ProcedureGroups']\n",
    "\n",
    "del list0[2]\n",
    "list0"
   ]
  },
  {
   "cell_type": "code",
   "execution_count": 45,
   "metadata": {},
   "outputs": [],
   "source": [
    "X_train_scaled.drop(list0,axis=1, inplace=True)\n",
    "X_validation_scaled.drop(list0,axis=1, inplace=True)\n",
    "X_test_scaled.drop(list0,axis=1, inplace=True)\n",
    "\n",
    "year_2_data_scaled.drop(list0,axis=1, inplace=True)"
   ]
  },
  {
   "cell_type": "code",
   "execution_count": 46,
   "metadata": {},
   "outputs": [
    {
     "data": {
      "text/plain": [
       "XGBRegressor(base_score=0.5, booster='gbtree', colsample_bylevel=1,\n",
       "       colsample_bytree=1, gamma=0, learning_rate=0.1, max_delta_step=0,\n",
       "       max_depth=3, min_child_weight=1, missing=None, n_estimators=100,\n",
       "       n_jobs=1, nthread=None, objective='reg:linear', random_state=0,\n",
       "       reg_alpha=0, reg_lambda=1, scale_pos_weight=1, seed=None,\n",
       "       silent=True, subsample=1)"
      ]
     },
     "execution_count": 46,
     "metadata": {},
     "output_type": "execute_result"
    }
   ],
   "source": [
    "XGregr.fit(X_train_scaled,logYtrain)"
   ]
  },
  {
   "cell_type": "code",
   "execution_count": 47,
   "metadata": {},
   "outputs": [
    {
     "name": "stdout",
     "output_type": "stream",
     "text": [
      "error on training set:  0.45051341699539793 error on validation set:  0.46397153280128445 error on testing set:  0.44906710372969416\n"
     ]
    }
   ],
   "source": [
    "logY_pred_test = XGregr .predict(X_test_scaled)\n",
    "logY_pred_train = XGregr .predict(X_train_scaled)\n",
    "logY_pred_validation = XGregr .predict(X_validation_scaled)\n",
    "\n",
    "#RMSLE after truncated\n",
    "#truncated output\n",
    "logY_pred_test[logY_pred_test < 0]=0\n",
    "logY_pred_train[logY_pred_train < 0]=0\n",
    "logY_pred_validation[logY_pred_validation < 0]=0\n",
    "\n",
    "print('error on training set: ', rmse(logYtrain, logY_pred_train),\n",
    "     'error on validation set: ', rmse(logYvalidation, logY_pred_validation),\n",
    "      'error on testing set: ', rmse(logYtest, logY_pred_test)\n",
    "    )"
   ]
  },
  {
   "cell_type": "code",
   "execution_count": 48,
   "metadata": {},
   "outputs": [
    {
     "data": {
      "image/png": "[encoded data removed]",
      "text/plain": [
       "<Figure size 432x288 with 1 Axes>"
      ]
     },
     "metadata": {
      "needs_background": "light"
     },
     "output_type": "display_data"
    }
   ],
   "source": [
    "num_bins=16\n",
    "n, bins, patches = plt.hist(logY_pred_train, num_bins, facecolor='blue', alpha=0.5)\n",
    "plt.show()"
   ]
  },
  {
   "cell_type": "code",
   "execution_count": 49,
   "metadata": {},
   "outputs": [
    {
     "data": {
      "image/png": "[encoded data removed]",
      "text/plain": [
       "<Figure size 864x576 with 1 Axes>"
      ]
     },
     "metadata": {
      "needs_background": "light"
     },
     "output_type": "display_data"
    }
   ],
   "source": [
    "# Plot the top 40 important features\n",
    "imp_feat_rf = pd.Series(XGregr.feature_importances_, index=X_train_scaled.columns).sort_values(ascending=False)\n",
    "imp_feat_rf[:40].plot(kind='bar', title='Feature Importance with Random Forest', figsize=(12,8))\n",
    "plt.ylabel('Feature Importance values')\n",
    "plt.subplots_adjust(bottom=0.25)\n",
    "plt.savefig('FeatImportance.png')\n",
    "plt.show()"
   ]
  },
  {
   "cell_type": "markdown",
   "metadata": {},
   "source": [
    "### remove all features with 0 important value\n",
    "\n"
   ]
  },
  {
   "cell_type": "code",
   "execution_count": 50,
   "metadata": {},
   "outputs": [],
   "source": [
    "#remove all features with 0 important value\n",
    "list1=list()\n",
    "for indx, val in imp_feat_rf.iteritems():\n",
    "    if val==0:\n",
    "        list1.append(indx)\n",
    "pd.DataFrame(list1).to_csv(\"Data/RmvSet1_XGBregr.csv\", encoding='utf-8')"
   ]
  },
  {
   "cell_type": "code",
   "execution_count": 51,
   "metadata": {},
   "outputs": [],
   "source": [
    "X_train_scaled.drop(list1,axis=1, inplace=True)\n",
    "X_validation_scaled.drop(list1,axis=1, inplace=True)\n",
    "X_test_scaled.drop(list1,axis=1, inplace=True)\n",
    "year_2_data_scaled.drop(list1,axis=1, inplace=True)"
   ]
  },
  {
   "cell_type": "code",
   "execution_count": 52,
   "metadata": {},
   "outputs": [
    {
     "data": {
      "text/plain": [
       "XGBRegressor(base_score=0.5, booster='gbtree', colsample_bylevel=1,\n",
       "       colsample_bytree=1, gamma=0, learning_rate=0.1, max_delta_step=0,\n",
       "       max_depth=3, min_child_weight=1, missing=None, n_estimators=100,\n",
       "       n_jobs=1, nthread=None, objective='reg:linear', random_state=0,\n",
       "       reg_alpha=0, reg_lambda=1, scale_pos_weight=1, seed=None,\n",
       "       silent=True, subsample=1)"
      ]
     },
     "execution_count": 52,
     "metadata": {},
     "output_type": "execute_result"
    }
   ],
   "source": [
    "XGregr.fit(X_train_scaled,logYtrain)"
   ]
  },
  {
   "cell_type": "code",
   "execution_count": 53,
   "metadata": {},
   "outputs": [
    {
     "name": "stdout",
     "output_type": "stream",
     "text": [
      "error on training set:  0.45051341699539793 error on validation set:  0.46397153280128445 error on testing set:  0.44906710372969416\n"
     ]
    }
   ],
   "source": [
    "logY_pred_test = XGregr .predict(X_test_scaled)\n",
    "logY_pred_train = XGregr .predict(X_train_scaled)\n",
    "logY_pred_validation = XGregr .predict(X_validation_scaled)\n",
    "\n",
    "#RMSLE after truncated\n",
    "#truncated output\n",
    "logY_pred_test[logY_pred_test < 0]=0\n",
    "logY_pred_train[logY_pred_train < 0]=0\n",
    "logY_pred_validation[logY_pred_validation < 0]=0\n",
    "\n",
    "print('error on training set: ', rmse(logYtrain, logY_pred_train),\n",
    "     'error on validation set: ', rmse(logYvalidation, logY_pred_validation),\n",
    "      'error on testing set: ', rmse(logYtest, logY_pred_test)\n",
    "    )"
   ]
  },
  {
   "cell_type": "code",
   "execution_count": 54,
   "metadata": {},
   "outputs": [
    {
     "data": {
      "image/png": "[encoded data removed]",
      "text/plain": [
       "<Figure size 432x288 with 1 Axes>"
      ]
     },
     "metadata": {
      "needs_background": "light"
     },
     "output_type": "display_data"
    }
   ],
   "source": [
    "num_bins=16\n",
    "n, bins, patches = plt.hist(np.exp(logY_pred_validation)-1, num_bins, facecolor='blue', alpha=0.5)\n",
    "plt.show()"
   ]
  },
  {
   "cell_type": "markdown",
   "metadata": {},
   "source": [
    "### Export predict output"
   ]
  },
  {
   "cell_type": "code",
   "execution_count": 32,
   "metadata": {},
   "outputs": [],
   "source": [
    "logY2_pred=XGregr.predict(year_2_data_scaled)\n",
    "logY2_pred[logY2_pred < 0]=0\n",
    "\n",
    "#convert to original \n",
    "Y2_pred=np.exp(logY2_pred)-1\n",
    "Y3_pred=np.exp(logY_pred_test)-1\n",
    "\n",
    "Y2_pred= pd.DataFrame(Y2_pred, columns=['Y_pred_XGBregr_scaled'])\n",
    "Y3_pred= pd.DataFrame(Y3_pred, columns=['Y_pred_XGBregr_scaled'])\n",
    "#Y_pred_validation= pd.DataFrame(Y_pred_validation, columns=['Y_pred_LGBM'])\n",
    "\n",
    "pd.DataFrame(Y2_pred).to_csv(\"Data/Y2_pred_XGBregr_scaled.csv\", encoding='utf-8')\n",
    "#pd.DataFrame(Y_pred_validation).to_csv(\"Data/Y_pred_validation_LGBM.csv\", encoding='utf-8')\n",
    "pd.DataFrame(Y3_pred).to_csv(\"Data/Y3_pred_XGBregr_scaled.csv\", encoding='utf-8')"
   ]
  },
  {
   "cell_type": "markdown",
   "metadata": {},
   "source": [
    "## Tuning"
   ]
  },
  {
   "cell_type": "code",
   "execution_count": null,
   "metadata": {},
   "outputs": [],
   "source": [
    "from sklearn.model_selection import RandomizedSearchCV\n",
    "from sklearn.metrics import make_scorer"
   ]
  },
  {
   "cell_type": "code",
   "execution_count": null,
   "metadata": {},
   "outputs": [],
   "source": [
    "def rmsle(logY_pred,logY_act):\n",
    "    rms=sqrt(mean_squared_error(logY_pred, logY_act))\n",
    "    return rms\n",
    "\n",
    "my_scorer = make_scorer(rmsle, greater_is_better=False)"
   ]
  },
  {
   "cell_type": "code",
   "execution_count": null,
   "metadata": {},
   "outputs": [],
   "source": [
    "from timeit import default_timer as timer\n",
    "\n",
    "hyper_space_XGB = {'n_estimators': list(range(100, 1000)),\n",
    "                   'boosting_type': ['gbdt', 'dart', 'goss'],\n",
    "                   'max_depth':  list(range(2, 25)),\n",
    "                   'num_leaves': list(range(30, 250)),\n",
    "                   'subsample': list(np.linspace(0.3, 0.9, 30)),\n",
    "                   'colsample_bytree': list(np.linspace(0.3, 0.9, 30)),\n",
    "                   'learning_rate': np.logspace(np.log(0.003), np.log(0.1), base=np.exp(1), num=50),\n",
    "                   'reg_alpha': list(np.linspace(0, 1)),\n",
    "                   'reg_lambda': list(np.linspace(0, 1)),\n",
    "                   'min_child_samples': list(range(20, 500, 5)),\n",
    "                   'min_child_weight': list(np.linspace(0.0005, 0.005))\n",
    "              }\n",
    "start = timer()\n",
    "est = XGBRegressor(n_jobs=-1, random_state=42, verbose=1, objective='reg:linear')\n",
    "rs = RandomizedSearchCV(est, hyper_space_XGB, scoring=my_scorer, n_iter=50, cv=3, verbose=1, random_state=42)  # \n",
    "rs_results = rs.fit(X_train_scaled, Ytrain)\n",
    "print(\"BEST PARAMETERS: \" + str(rs_results.best_params_))\n",
    "print(\"BEST CV SCORE: \" + str(1 - rs_results.best_score_))\n",
    "end = timer()\n",
    "# Predict (after fitting RandomizedSearchCV is an estimator with best parameters)\n",
    "Y_pred_validation = rs.predict(X_validation_scaled)\n",
    "\n",
    "# Score\n",
    "score = rmsle(Y_pred_validation, Yvalidation)\n",
    "print(\"RMSLE SCORE ON VALIDATION DATA: {}\".format(score))\n",
    "print(\"ELAPSED TIME: \" + str((end-start) / 60))"
   ]
  },
  {
   "cell_type": "code",
   "execution_count": null,
   "metadata": {},
   "outputs": [],
   "source": [
    "paramGrid = {\n",
    "    'scale_pos_weight':[0.001, 0.01,0.1]\n",
    "}"
   ]
  },
  {
   "cell_type": "code",
   "execution_count": null,
   "metadata": {},
   "outputs": [],
   "source": [
    "fit_params={\"early_stopping_rounds\":42, \n",
    "            \"eval_metric\" : \"rmse\", \n",
    "            \"eval_set\" : [[X_validation_scaled, logYvalidation]]}\n",
    "\n",
    "gridsearch = GridSearchCV(XGregr, paramGrid, verbose=1 ,\n",
    "         fit_params=fit_params,cv=2)\n",
    "    \n",
    "gridsearch.fit(X_train_scaled,logYtrain)"
   ]
  },
  {
   "cell_type": "code",
   "execution_count": null,
   "metadata": {},
   "outputs": [],
   "source": [
    "gridsearch.best_params_"
   ]
  }
 ],
 "metadata": {
  "kernelspec": {
   "display_name": "Python 3",
   "language": "python",
   "name": "python3"
  },
  "language_info": {
   "codemirror_mode": {
    "name": "ipython",
    "version": 3
   },
   "file_extension": ".py",
   "mimetype": "text/x-python",
   "name": "python",
   "nbconvert_exporter": "python",
   "pygments_lexer": "ipython3",
   "version": "3.7.1"
  }
 },
 "nbformat": 4,
 "nbformat_minor": 2
}
